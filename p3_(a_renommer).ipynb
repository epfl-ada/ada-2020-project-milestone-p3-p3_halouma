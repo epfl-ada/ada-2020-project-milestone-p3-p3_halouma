{
 "cells": [
  {
   "cell_type": "code",
   "execution_count": 1,
   "metadata": {},
   "outputs": [],
   "source": [
    "import pandas as pd\n",
    "import numpy as np\n",
    "import matplotlib.pyplot as plt\n",
    "import seaborn as sns\n",
    "from sklearn.linear_model import LinearRegression\n",
    "from matplotlib.offsetbox import AnchoredText\n",
    "from mpl_toolkits.axes_grid1 import make_axes_locatable"
   ]
  },
  {
   "cell_type": "code",
   "execution_count": 2,
   "metadata": {},
   "outputs": [],
   "source": [
    "df = pd.read_csv(\"opp-stops_state.csv\")"
   ]
  },
  {
   "cell_type": "code",
   "execution_count": 119,
   "metadata": {},
   "outputs": [
    {
     "data": {
      "text/html": [
       "<div>\n",
       "<style scoped>\n",
       "    .dataframe tbody tr th:only-of-type {\n",
       "        vertical-align: middle;\n",
       "    }\n",
       "\n",
       "    .dataframe tbody tr th {\n",
       "        vertical-align: top;\n",
       "    }\n",
       "\n",
       "    .dataframe thead th {\n",
       "        text-align: right;\n",
       "    }\n",
       "</style>\n",
       "<table border=\"1\" class=\"dataframe\">\n",
       "  <thead>\n",
       "    <tr style=\"text-align: right;\">\n",
       "      <th></th>\n",
       "      <th>state</th>\n",
       "      <th>city</th>\n",
       "      <th>geography</th>\n",
       "      <th>subgeography</th>\n",
       "      <th>subject_race</th>\n",
       "      <th>search_rate</th>\n",
       "      <th>stop_rate</th>\n",
       "      <th>hit_rate</th>\n",
       "      <th>inferred_threshold</th>\n",
       "      <th>stops_per_year</th>\n",
       "      <th>stop_rate_n</th>\n",
       "    </tr>\n",
       "  </thead>\n",
       "  <tbody>\n",
       "    <tr>\n",
       "      <th>418</th>\n",
       "      <td>CT</td>\n",
       "      <td>Statewide</td>\n",
       "      <td>CT</td>\n",
       "      <td>Fairfield County</td>\n",
       "      <td>white</td>\n",
       "      <td>0.013487</td>\n",
       "      <td>0.065458</td>\n",
       "      <td>0.356108</td>\n",
       "      <td>0.223550</td>\n",
       "      <td>17189.760000</td>\n",
       "      <td>160113.120000</td>\n",
       "    </tr>\n",
       "    <tr>\n",
       "      <th>419</th>\n",
       "      <td>CT</td>\n",
       "      <td>Statewide</td>\n",
       "      <td>CT</td>\n",
       "      <td>Fairfield County</td>\n",
       "      <td>black</td>\n",
       "      <td>0.029384</td>\n",
       "      <td>0.073116</td>\n",
       "      <td>0.315113</td>\n",
       "      <td>0.171864</td>\n",
       "      <td>5080.320000</td>\n",
       "      <td>25650.720000</td>\n",
       "    </tr>\n",
       "    <tr>\n",
       "      <th>420</th>\n",
       "      <td>CT</td>\n",
       "      <td>Statewide</td>\n",
       "      <td>CT</td>\n",
       "      <td>Fairfield County</td>\n",
       "      <td>hispanic</td>\n",
       "      <td>0.020520</td>\n",
       "      <td>0.039236</td>\n",
       "      <td>0.257426</td>\n",
       "      <td>0.198470</td>\n",
       "      <td>4725.120000</td>\n",
       "      <td>21654.720000</td>\n",
       "    </tr>\n",
       "    <tr>\n",
       "      <th>421</th>\n",
       "      <td>CT</td>\n",
       "      <td>Statewide</td>\n",
       "      <td>CT</td>\n",
       "      <td>Hartford County</td>\n",
       "      <td>white</td>\n",
       "      <td>0.012005</td>\n",
       "      <td>0.065458</td>\n",
       "      <td>0.319820</td>\n",
       "      <td>0.238114</td>\n",
       "      <td>17752.800000</td>\n",
       "      <td>160113.120000</td>\n",
       "    </tr>\n",
       "    <tr>\n",
       "      <th>422</th>\n",
       "      <td>CT</td>\n",
       "      <td>Statewide</td>\n",
       "      <td>CT</td>\n",
       "      <td>Hartford County</td>\n",
       "      <td>black</td>\n",
       "      <td>0.036567</td>\n",
       "      <td>0.073116</td>\n",
       "      <td>0.303398</td>\n",
       "      <td>0.155822</td>\n",
       "      <td>5408.160000</td>\n",
       "      <td>25650.720000</td>\n",
       "    </tr>\n",
       "    <tr>\n",
       "      <th>...</th>\n",
       "      <td>...</td>\n",
       "      <td>...</td>\n",
       "      <td>...</td>\n",
       "      <td>...</td>\n",
       "      <td>...</td>\n",
       "      <td>...</td>\n",
       "      <td>...</td>\n",
       "      <td>...</td>\n",
       "      <td>...</td>\n",
       "      <td>...</td>\n",
       "      <td>...</td>\n",
       "    </tr>\n",
       "    <tr>\n",
       "      <th>3927</th>\n",
       "      <td>WI</td>\n",
       "      <td>Statewide</td>\n",
       "      <td>WI</td>\n",
       "      <td>Kenosha County</td>\n",
       "      <td>black</td>\n",
       "      <td>0.051806</td>\n",
       "      <td>0.032153</td>\n",
       "      <td>0.337143</td>\n",
       "      <td>0.168363</td>\n",
       "      <td>827.265306</td>\n",
       "      <td>11545.959184</td>\n",
       "    </tr>\n",
       "    <tr>\n",
       "      <th>3928</th>\n",
       "      <td>WI</td>\n",
       "      <td>Statewide</td>\n",
       "      <td>WI</td>\n",
       "      <td>Kenosha County</td>\n",
       "      <td>hispanic</td>\n",
       "      <td>0.034705</td>\n",
       "      <td>0.018971</td>\n",
       "      <td>0.279070</td>\n",
       "      <td>0.170613</td>\n",
       "      <td>606.857143</td>\n",
       "      <td>7220.326531</td>\n",
       "    </tr>\n",
       "    <tr>\n",
       "      <th>3996</th>\n",
       "      <td>WI</td>\n",
       "      <td>Statewide</td>\n",
       "      <td>WI</td>\n",
       "      <td>Rock County</td>\n",
       "      <td>white</td>\n",
       "      <td>0.024457</td>\n",
       "      <td>0.035205</td>\n",
       "      <td>0.373786</td>\n",
       "      <td>0.227040</td>\n",
       "      <td>4125.551020</td>\n",
       "      <td>165997.224490</td>\n",
       "    </tr>\n",
       "    <tr>\n",
       "      <th>3997</th>\n",
       "      <td>WI</td>\n",
       "      <td>Statewide</td>\n",
       "      <td>WI</td>\n",
       "      <td>Rock County</td>\n",
       "      <td>black</td>\n",
       "      <td>0.094879</td>\n",
       "      <td>0.032153</td>\n",
       "      <td>0.405858</td>\n",
       "      <td>0.119259</td>\n",
       "      <td>616.897959</td>\n",
       "      <td>11545.959184</td>\n",
       "    </tr>\n",
       "    <tr>\n",
       "      <th>3998</th>\n",
       "      <td>WI</td>\n",
       "      <td>Statewide</td>\n",
       "      <td>WI</td>\n",
       "      <td>Rock County</td>\n",
       "      <td>hispanic</td>\n",
       "      <td>0.041150</td>\n",
       "      <td>0.018971</td>\n",
       "      <td>0.333333</td>\n",
       "      <td>0.189453</td>\n",
       "      <td>374.938776</td>\n",
       "      <td>7220.326531</td>\n",
       "    </tr>\n",
       "  </tbody>\n",
       "</table>\n",
       "<p>675 rows × 11 columns</p>\n",
       "</div>"
      ],
      "text/plain": [
       "     state       city geography      subgeography subject_race  search_rate  \\\n",
       "418     CT  Statewide        CT  Fairfield County        white     0.013487   \n",
       "419     CT  Statewide        CT  Fairfield County        black     0.029384   \n",
       "420     CT  Statewide        CT  Fairfield County     hispanic     0.020520   \n",
       "421     CT  Statewide        CT   Hartford County        white     0.012005   \n",
       "422     CT  Statewide        CT   Hartford County        black     0.036567   \n",
       "...    ...        ...       ...               ...          ...          ...   \n",
       "3927    WI  Statewide        WI    Kenosha County        black     0.051806   \n",
       "3928    WI  Statewide        WI    Kenosha County     hispanic     0.034705   \n",
       "3996    WI  Statewide        WI       Rock County        white     0.024457   \n",
       "3997    WI  Statewide        WI       Rock County        black     0.094879   \n",
       "3998    WI  Statewide        WI       Rock County     hispanic     0.041150   \n",
       "\n",
       "      stop_rate  hit_rate  inferred_threshold  stops_per_year    stop_rate_n  \n",
       "418    0.065458  0.356108            0.223550    17189.760000  160113.120000  \n",
       "419    0.073116  0.315113            0.171864     5080.320000   25650.720000  \n",
       "420    0.039236  0.257426            0.198470     4725.120000   21654.720000  \n",
       "421    0.065458  0.319820            0.238114    17752.800000  160113.120000  \n",
       "422    0.073116  0.303398            0.155822     5408.160000   25650.720000  \n",
       "...         ...       ...                 ...             ...            ...  \n",
       "3927   0.032153  0.337143            0.168363      827.265306   11545.959184  \n",
       "3928   0.018971  0.279070            0.170613      606.857143    7220.326531  \n",
       "3996   0.035205  0.373786            0.227040     4125.551020  165997.224490  \n",
       "3997   0.032153  0.405858            0.119259      616.897959   11545.959184  \n",
       "3998   0.018971  0.333333            0.189453      374.938776    7220.326531  \n",
       "\n",
       "[675 rows x 11 columns]"
      ]
     },
     "execution_count": 119,
     "metadata": {},
     "output_type": "execute_result"
    }
   ],
   "source": [
    "df.dropna()\n",
    "# df[df.state.str.contains('TX')]"
   ]
  },
  {
   "cell_type": "code",
   "execution_count": 44,
   "metadata": {},
   "outputs": [],
   "source": [
    "a = df[df.state.str.contains('CT')].dropna().stops_per_year.sum() +df[df.state.str.contains('IL')].dropna().stops_per_year.sum() + df[df.state.str.contains('RI')].dropna().stops_per_year.sum()"
   ]
  },
  {
   "cell_type": "code",
   "execution_count": 45,
   "metadata": {},
   "outputs": [],
   "source": [
    "b = df[df.state.str.contains('TX')].dropna().stops_per_year.sum() + df[df.state.str.contains('SC')].dropna().stops_per_year.sum()"
   ]
  },
  {
   "cell_type": "code",
   "execution_count": 46,
   "metadata": {},
   "outputs": [
    {
     "data": {
      "text/plain": [
       "(517674.6266666667, 2104964.397693118, 0.2459303479118217)"
      ]
     },
     "execution_count": 46,
     "metadata": {},
     "output_type": "execute_result"
    }
   ],
   "source": [
    "a, b, a/b"
   ]
  },
  {
   "cell_type": "markdown",
   "metadata": {},
   "source": [
    "Wesh on a choisit Connecticut (55%), Illinois (55%), RI (54%), TX (52%), SC (55%)"
   ]
  },
  {
   "cell_type": "code",
   "execution_count": 47,
   "metadata": {},
   "outputs": [],
   "source": [
    "df_ct = df[df.state.str.contains('CT')].dropna()\n",
    "df_il = df[df.state.str.contains('IL')].dropna()\n",
    "df_ri = df[df.state.str.contains('RI')].dropna()"
   ]
  },
  {
   "cell_type": "code",
   "execution_count": 48,
   "metadata": {},
   "outputs": [],
   "source": [
    "df_tx = df[df.state.str.contains('TX')].dropna()\n",
    "df_sc = df[df.state.str.contains('SC')].dropna()"
   ]
  },
  {
   "cell_type": "code",
   "execution_count": 124,
   "metadata": {},
   "outputs": [],
   "source": [
    "df_blue = pd.concat([df_ct, df_il, df_ri])\n",
    "df_red = pd.concat([df_tx, df_sc])"
   ]
  },
  {
   "cell_type": "code",
   "execution_count": 106,
   "metadata": {},
   "outputs": [],
   "source": [
    "blue = df_blue.groupby([\"state\", \"subject_race\"]).mean()\n",
    "blue.drop(columns = [\"search_rate\", \"stop_rate\", \"inferred_threshold\", \"stop_rate_n\", \"stops_per_year\"], inplace = True)"
   ]
  },
  {
   "cell_type": "code",
   "execution_count": 107,
   "metadata": {},
   "outputs": [],
   "source": [
    "red = df_red.groupby([\"state\", \"subject_race\"]).mean()\n",
    "red.drop(columns = [\"search_rate\", \"stop_rate\", \"inferred_threshold\", \"stop_rate_n\", \"stops_per_year\"], inplace = True)"
   ]
  },
  {
   "cell_type": "code",
   "execution_count": 110,
   "metadata": {},
   "outputs": [],
   "source": [
    "hit_rate = pd.concat([red, blue])\n",
    "hit_rate.reset_index(inplace = True)"
   ]
  },
  {
   "cell_type": "code",
   "execution_count": 118,
   "metadata": {},
   "outputs": [
    {
     "data": {
      "text/html": [
       "<div>\n",
       "<style scoped>\n",
       "    .dataframe tbody tr th:only-of-type {\n",
       "        vertical-align: middle;\n",
       "    }\n",
       "\n",
       "    .dataframe tbody tr th {\n",
       "        vertical-align: top;\n",
       "    }\n",
       "\n",
       "    .dataframe thead th {\n",
       "        text-align: right;\n",
       "    }\n",
       "</style>\n",
       "<table border=\"1\" class=\"dataframe\">\n",
       "  <thead>\n",
       "    <tr style=\"text-align: right;\">\n",
       "      <th></th>\n",
       "      <th>state</th>\n",
       "      <th>hit_rate</th>\n",
       "    </tr>\n",
       "  </thead>\n",
       "  <tbody>\n",
       "    <tr>\n",
       "      <th>0</th>\n",
       "      <td>SC</td>\n",
       "      <td>0.243430</td>\n",
       "    </tr>\n",
       "    <tr>\n",
       "      <th>3</th>\n",
       "      <td>TX</td>\n",
       "      <td>0.427774</td>\n",
       "    </tr>\n",
       "    <tr>\n",
       "      <th>6</th>\n",
       "      <td>CT</td>\n",
       "      <td>0.322624</td>\n",
       "    </tr>\n",
       "    <tr>\n",
       "      <th>9</th>\n",
       "      <td>IL</td>\n",
       "      <td>0.308515</td>\n",
       "    </tr>\n",
       "    <tr>\n",
       "      <th>12</th>\n",
       "      <td>RI</td>\n",
       "      <td>0.416950</td>\n",
       "    </tr>\n",
       "  </tbody>\n",
       "</table>\n",
       "</div>"
      ],
      "text/plain": [
       "   state  hit_rate\n",
       "0     SC  0.243430\n",
       "3     TX  0.427774\n",
       "6     CT  0.322624\n",
       "9     IL  0.308515\n",
       "12    RI  0.416950"
      ]
     },
     "execution_count": 118,
     "metadata": {},
     "output_type": "execute_result"
    }
   ],
   "source": [
    "hit_rate[hit_rate.subject_race == 'black'].drop(columns = \"subject_race\")"
   ]
  },
  {
   "cell_type": "code",
   "execution_count": null,
   "metadata": {},
   "outputs": [],
   "source": []
  }
 ],
 "metadata": {
  "kernelspec": {
   "display_name": "Python [conda env:ADA] *",
   "language": "python",
   "name": "conda-env-ADA-py"
  },
  "language_info": {
   "codemirror_mode": {
    "name": "ipython",
    "version": 3
   },
   "file_extension": ".py",
   "mimetype": "text/x-python",
   "name": "python",
   "nbconvert_exporter": "python",
   "pygments_lexer": "ipython3",
   "version": "3.8.5"
  }
 },
 "nbformat": 4,
 "nbformat_minor": 4
}
