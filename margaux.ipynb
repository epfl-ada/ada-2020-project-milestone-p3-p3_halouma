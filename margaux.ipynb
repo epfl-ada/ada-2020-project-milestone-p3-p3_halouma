{
 "cells": [
  {
   "cell_type": "code",
   "execution_count": 1,
   "metadata": {},
   "outputs": [],
   "source": [
    "#IMPORTING LIBRARIES\n",
    "import pandas as pd\n",
    "import numpy as np\n",
    "import os\n",
    "import pickle\n",
    "import matplotlib.pyplot as plt\n",
    "import scipy.stats as stats\n",
    "import scipy as sp\n",
    "from matplotlib.offsetbox import AnchoredText\n",
    "from mpl_toolkits.axes_grid1 import make_axes_locatable\n",
    "import warnings\n",
    "warnings.filterwarnings('ignore')"
   ]
  },
  {
   "cell_type": "code",
   "execution_count": 2,
   "metadata": {},
   "outputs": [],
   "source": [
    "#DATASET USED:\n",
    "df = pd.read_csv('data/opp-stops_state.csv')\n",
    "df = df.dropna()\n",
    "#only use Texas and divide into races\n",
    "tx = df.loc[df[\"state\"] == \"TX\"]"
   ]
  },
  {
   "cell_type": "code",
   "execution_count": 3,
   "metadata": {},
   "outputs": [
    {
     "data": {
      "text/html": [
       "<div>\n",
       "<style scoped>\n",
       "    .dataframe tbody tr th:only-of-type {\n",
       "        vertical-align: middle;\n",
       "    }\n",
       "\n",
       "    .dataframe tbody tr th {\n",
       "        vertical-align: top;\n",
       "    }\n",
       "\n",
       "    .dataframe thead th {\n",
       "        text-align: right;\n",
       "    }\n",
       "</style>\n",
       "<table border=\"1\" class=\"dataframe\">\n",
       "  <thead>\n",
       "    <tr style=\"text-align: right;\">\n",
       "      <th></th>\n",
       "      <th>Unnamed: 0</th>\n",
       "      <th>votes_dem</th>\n",
       "      <th>votes_gop</th>\n",
       "      <th>total_votes</th>\n",
       "      <th>per_dem</th>\n",
       "      <th>per_gop</th>\n",
       "      <th>diff</th>\n",
       "      <th>per_point_diff</th>\n",
       "      <th>state_abbr</th>\n",
       "      <th>county_name</th>\n",
       "      <th>combined_fips</th>\n",
       "    </tr>\n",
       "  </thead>\n",
       "  <tbody>\n",
       "    <tr>\n",
       "      <th>0</th>\n",
       "      <td>0</td>\n",
       "      <td>93003.0</td>\n",
       "      <td>130413.0</td>\n",
       "      <td>246588.0</td>\n",
       "      <td>0.377159</td>\n",
       "      <td>0.52887</td>\n",
       "      <td>37,410</td>\n",
       "      <td>15.17%</td>\n",
       "      <td>AK</td>\n",
       "      <td>Alaska</td>\n",
       "      <td>2013</td>\n",
       "    </tr>\n",
       "    <tr>\n",
       "      <th>1</th>\n",
       "      <td>1</td>\n",
       "      <td>93003.0</td>\n",
       "      <td>130413.0</td>\n",
       "      <td>246588.0</td>\n",
       "      <td>0.377159</td>\n",
       "      <td>0.52887</td>\n",
       "      <td>37,410</td>\n",
       "      <td>15.17%</td>\n",
       "      <td>AK</td>\n",
       "      <td>Alaska</td>\n",
       "      <td>2016</td>\n",
       "    </tr>\n",
       "    <tr>\n",
       "      <th>2</th>\n",
       "      <td>2</td>\n",
       "      <td>93003.0</td>\n",
       "      <td>130413.0</td>\n",
       "      <td>246588.0</td>\n",
       "      <td>0.377159</td>\n",
       "      <td>0.52887</td>\n",
       "      <td>37,410</td>\n",
       "      <td>15.17%</td>\n",
       "      <td>AK</td>\n",
       "      <td>Alaska</td>\n",
       "      <td>2020</td>\n",
       "    </tr>\n",
       "    <tr>\n",
       "      <th>3</th>\n",
       "      <td>3</td>\n",
       "      <td>93003.0</td>\n",
       "      <td>130413.0</td>\n",
       "      <td>246588.0</td>\n",
       "      <td>0.377159</td>\n",
       "      <td>0.52887</td>\n",
       "      <td>37,410</td>\n",
       "      <td>15.17%</td>\n",
       "      <td>AK</td>\n",
       "      <td>Alaska</td>\n",
       "      <td>2050</td>\n",
       "    </tr>\n",
       "    <tr>\n",
       "      <th>4</th>\n",
       "      <td>4</td>\n",
       "      <td>93003.0</td>\n",
       "      <td>130413.0</td>\n",
       "      <td>246588.0</td>\n",
       "      <td>0.377159</td>\n",
       "      <td>0.52887</td>\n",
       "      <td>37,410</td>\n",
       "      <td>15.17%</td>\n",
       "      <td>AK</td>\n",
       "      <td>Alaska</td>\n",
       "      <td>2060</td>\n",
       "    </tr>\n",
       "  </tbody>\n",
       "</table>\n",
       "</div>"
      ],
      "text/plain": [
       "   Unnamed: 0  votes_dem  votes_gop  total_votes   per_dem  per_gop    diff  \\\n",
       "0           0    93003.0   130413.0     246588.0  0.377159  0.52887  37,410   \n",
       "1           1    93003.0   130413.0     246588.0  0.377159  0.52887  37,410   \n",
       "2           2    93003.0   130413.0     246588.0  0.377159  0.52887  37,410   \n",
       "3           3    93003.0   130413.0     246588.0  0.377159  0.52887  37,410   \n",
       "4           4    93003.0   130413.0     246588.0  0.377159  0.52887  37,410   \n",
       "\n",
       "  per_point_diff state_abbr county_name  combined_fips  \n",
       "0         15.17%         AK      Alaska           2013  \n",
       "1         15.17%         AK      Alaska           2016  \n",
       "2         15.17%         AK      Alaska           2020  \n",
       "3         15.17%         AK      Alaska           2050  \n",
       "4         15.17%         AK      Alaska           2060  "
      ]
     },
     "execution_count": 3,
     "metadata": {},
     "output_type": "execute_result"
    }
   ],
   "source": [
    "counties =  pd.read_csv('2016_US_County_Level_Presidential_Results.csv')\n",
    "counties = counties.dropna()\n",
    "counties.head()"
   ]
  },
  {
   "cell_type": "code",
   "execution_count": 4,
   "metadata": {},
   "outputs": [],
   "source": [
    "\"\"\"counties['color'] = np.where(counties[\"per_dem\"] > counties[\"per_gop\"], \"blue\", \"red\")\n",
    "counties = counties.loc[counties[\"state_abbr\"] == \"TX\"]\n",
    "colors = np.array(counties['color'])\"\"\"\n",
    "\n",
    "counties['color'] = np.where(counties[\"per_dem\"] > counties[\"per_gop\"], \"blue\", \"red\")\n",
    "counties = counties.loc[counties[\"state_abbr\"] == \"TX\"]\n",
    "#In df counties, keep only the counties for which we have the data\n",
    "counties = counties.loc[counties[\"county_name\"].isin(tx[\"subgeography\"])]\n",
    "colors = np.array(counties['color'])"
   ]
  },
  {
   "cell_type": "code",
   "execution_count": 5,
   "metadata": {},
   "outputs": [
    {
     "data": {
      "text/plain": [
       "'\\n#In df counties, keep only the counties for which we have the data\\ncounties = counties.loc[counties[\"county_name\"].isin(tx_white[\"subgeography\"])]\\ntx_hit = tx[[\\'subgeography\\',\\'hit_rate\\',\\'subject_race\\']]\\ntx_white = tx_hit.loc[tx_hit[\"subject_race\"]== \\'white\\']\\ntx_white[\\'color\\'] = colors\\ntx_white_b = tx_white.loc[tx_white[\\'color\\'] == \\'blue\\']\\ntx_white_r = tx_white.loc[tx_white[\\'color\\'] == \\'red\\']\\ntx_black = tx_hit.loc[tx_hit[\"subject_race\"]== \\'black\\']\\ntx_black[\\'color\\'] = colors\\ntx_black_b = tx_black.loc[tx_black[\\'color\\'] == \\'blue\\']\\ntx_black_r = tx_black.loc[tx_black[\\'color\\'] == \\'red\\']\\ntx_hisp = tx_hit.loc[tx_hit[\"subject_race\"]== \\'hispanic\\']\\ntx_hisp[\\'color\\'] = colors\\ntx_hisp_b = tx_hisp.loc[tx_hisp[\\'color\\'] == \\'blue\\']\\ntx_hisp_r = tx_hisp.loc[tx_hisp[\\'color\\'] == \\'red\\']'"
      ]
     },
     "execution_count": 5,
     "metadata": {},
     "output_type": "execute_result"
    }
   ],
   "source": [
    "tx_hit = tx[['subgeography','hit_rate','subject_race']]\n",
    "tx_white = tx_hit.loc[tx_hit[\"subject_race\"]== 'white']\n",
    "tx_white['color'] = colors\n",
    "tx_white_b = tx_white.loc[tx_white['color'] == 'blue']\n",
    "tx_white_r = tx_white.loc[tx_white['color'] == 'red']\n",
    "tx_black = tx_hit.loc[tx_hit[\"subject_race\"]== 'black']\n",
    "tx_black['color'] = colors\n",
    "tx_black_b = tx_black.loc[tx_black['color'] == 'blue']\n",
    "tx_black_r = tx_black.loc[tx_black['color'] == 'red']\n",
    "tx_hisp = tx_hit.loc[tx_hit[\"subject_race\"]== 'hispanic']\n",
    "tx_hisp['color'] = colors\n",
    "tx_hisp_b = tx_hisp.loc[tx_hisp['color'] == 'blue']\n",
    "tx_hisp_r = tx_hisp.loc[tx_hisp['color'] == 'red']\n",
    "\n",
    "\"\"\"\n",
    "#In df counties, keep only the counties for which we have the data\n",
    "counties = counties.loc[counties[\"county_name\"].isin(tx_white[\"subgeography\"])]\n",
    "tx_hit = tx[['subgeography','hit_rate','subject_race']]\n",
    "tx_white = tx_hit.loc[tx_hit[\"subject_race\"]== 'white']\n",
    "tx_white['color'] = colors\n",
    "tx_white_b = tx_white.loc[tx_white['color'] == 'blue']\n",
    "tx_white_r = tx_white.loc[tx_white['color'] == 'red']\n",
    "tx_black = tx_hit.loc[tx_hit[\"subject_race\"]== 'black']\n",
    "tx_black['color'] = colors\n",
    "tx_black_b = tx_black.loc[tx_black['color'] == 'blue']\n",
    "tx_black_r = tx_black.loc[tx_black['color'] == 'red']\n",
    "tx_hisp = tx_hit.loc[tx_hit[\"subject_race\"]== 'hispanic']\n",
    "tx_hisp['color'] = colors\n",
    "tx_hisp_b = tx_hisp.loc[tx_hisp['color'] == 'blue']\n",
    "tx_hisp_r = tx_hisp.loc[tx_hisp['color'] == 'red']\"\"\"\n"
   ]
  },
  {
   "cell_type": "code",
   "execution_count": 6,
   "metadata": {},
   "outputs": [
    {
     "data": {
      "text/plain": [
       "<matplotlib.offsetbox.AnchoredText at 0x21840880e48>"
      ]
     },
     "execution_count": 6,
     "metadata": {},
     "output_type": "execute_result"
    },
    {
     "data": {
      "image/png": "[encoded data removed]",
      "text/plain": [
       "<Figure size 864x468 with 4 Axes>"
      ]
     },
     "metadata": {
      "needs_background": "light"
     },
     "output_type": "display_data"
    }
   ],
   "source": [
    "fig1, [ax1,ax2] = plt.subplots(1, 2,figsize=(12, 6.5))\n",
    "ax1.scatter(tx_white_b['hit_rate']*100, tx_black_b['hit_rate']*100, c = 'blue')\n",
    "ax1.scatter(tx_white_r['hit_rate']*100, tx_black_r['hit_rate']*100, c = 'red')\n",
    "ax1.plot([0,1],[0,1], linestyle = '--', linewidth = 1, color='black',transform=ax1.transAxes)\n",
    "ax2.scatter(tx_white_b['hit_rate']*100, tx_hisp_b['hit_rate']*100, c = 'blue')\n",
    "ax2.scatter(tx_white_r['hit_rate']*100, tx_hisp_r['hit_rate']*100, c = 'red')\n",
    "ax2.plot([0,1],[0,1], linestyle = '--', linewidth = 1, color='black',transform=ax2.transAxes)\n",
    "\n",
    "for ax in [ax1,ax2]:\n",
    "    divider = make_axes_locatable(ax)\n",
    "    cax = divider.append_axes(\"top\", size=\"10%\", pad=0)\n",
    "    cax.get_xaxis().set_visible(False)\n",
    "    cax.get_yaxis().set_visible(False)\n",
    "    cax.set_facecolor('gainsboro')\n",
    "    at = AnchoredText('black drivers', loc=10, prop=dict(backgroundcolor='gainsboro', size=13, color='black'))\n",
    "    cax.add_artist(at)\n",
    "at = AnchoredText('hispanic drivers', loc=10, prop=dict(backgroundcolor='gainsboro', size=13, color='black'))\n",
    "cax.add_artist(at)\n"
   ]
  },
  {
   "cell_type": "code",
   "execution_count": null,
   "metadata": {},
   "outputs": [],
   "source": []
  },
  {
   "cell_type": "code",
   "execution_count": null,
   "metadata": {},
   "outputs": [],
   "source": []
  },
  {
   "cell_type": "code",
   "execution_count": null,
   "metadata": {},
   "outputs": [],
   "source": []
  }
 ],
 "metadata": {
  "kernelspec": {
   "display_name": "Python 3",
   "language": "python",
   "name": "python3"
  },
  "language_info": {
   "codemirror_mode": {
    "name": "ipython",
    "version": 3
   },
   "file_extension": ".py",
   "mimetype": "text/x-python",
   "name": "python",
   "nbconvert_exporter": "python",
   "pygments_lexer": "ipython3",
   "version": "3.7.4"
  }
 },
 "nbformat": 4,
 "nbformat_minor": 4
}
