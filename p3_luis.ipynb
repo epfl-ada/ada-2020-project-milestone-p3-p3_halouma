{
 "cells": [
  {
   "cell_type": "code",
   "execution_count": 165,
   "metadata": {},
   "outputs": [],
   "source": [
    "import pandas as pd\n",
    "import numpy as np\n",
    "import matplotlib.pyplot as plt\n",
    "import seaborn as sns\n",
    "from sklearn.linear_model import LinearRegression\n",
    "from matplotlib.offsetbox import AnchoredText\n",
    "from mpl_toolkits.axes_grid1 import make_axes_locatable\n",
    "import scipy.stats as stats\n",
    "from statsmodels.stats import diagnostic\n",
    "import scipy as sp\n"
   ]
  },
  {
   "cell_type": "code",
   "execution_count": 166,
   "metadata": {},
   "outputs": [],
   "source": [
    "df = pd.read_csv(\"opp-stops_state.csv\")\n",
    "counties =  pd.read_csv('2016_US_County_Level_Presidential_Results.csv')"
   ]
  },
  {
   "cell_type": "code",
   "execution_count": 167,
   "metadata": {},
   "outputs": [],
   "source": [
    "# drop all NaN values\n",
    "df.drop(columns = ['city', 'geography'], inplace = True)\n",
    "df.dropna(inplace = True)\n",
    "counties = counties.dropna()\n",
    "# add number of searches column\n",
    "df['nb_search'] = df.search_rate * df.stops_per_year\n"
   ]
  },
  {
   "cell_type": "code",
   "execution_count": 168,
   "metadata": {},
   "outputs": [],
   "source": [
    "#Définir array des états bleus et rouges\n",
    "red_states = ['SC', 'TX']\n",
    "blue_states  = ['IL', 'CT', 'RI']\n",
    "\n",
    "#Fonction pour trier les états en blue et red: \n",
    "def what_party (name): #retourne toujours none !\n",
    "    if any(s == name for s in blue_states):\n",
    "        return 'blue'\n",
    "    elif any(s == name for s in red_states):\n",
    "        return 'red'\n",
    "    else:\n",
    "        return 'none'\n",
    "    \n",
    "def sort_array_of_state(dataframe):\n",
    "    partys = []\n",
    "    for state in dataframe['state']:\n",
    "        partys.append(what_party(state))\n",
    "    return partys\n",
    "    \n",
    "#Trier les états de notre dataframe:\n",
    "df['party'] = sort_array_of_state(df)\n"
   ]
  },
  {
   "cell_type": "code",
   "execution_count": 169,
   "metadata": {},
   "outputs": [
    {
     "data": {
      "text/html": [
       "<div>\n",
       "<style scoped>\n",
       "    .dataframe tbody tr th:only-of-type {\n",
       "        vertical-align: middle;\n",
       "    }\n",
       "\n",
       "    .dataframe tbody tr th {\n",
       "        vertical-align: top;\n",
       "    }\n",
       "\n",
       "    .dataframe thead tr th {\n",
       "        text-align: left;\n",
       "    }\n",
       "\n",
       "    .dataframe thead tr:last-of-type th {\n",
       "        text-align: right;\n",
       "    }\n",
       "</style>\n",
       "<table border=\"1\" class=\"dataframe\">\n",
       "  <thead>\n",
       "    <tr>\n",
       "      <th></th>\n",
       "      <th></th>\n",
       "      <th></th>\n",
       "      <th colspan=\"3\" halign=\"left\">search_rate</th>\n",
       "      <th colspan=\"3\" halign=\"left\">stop_rate</th>\n",
       "      <th colspan=\"3\" halign=\"left\">hit_rate</th>\n",
       "      <th colspan=\"3\" halign=\"left\">inferred_threshold</th>\n",
       "      <th colspan=\"3\" halign=\"left\">stops_per_year</th>\n",
       "      <th colspan=\"3\" halign=\"left\">stop_rate_n</th>\n",
       "      <th colspan=\"3\" halign=\"left\">nb_search</th>\n",
       "    </tr>\n",
       "    <tr>\n",
       "      <th></th>\n",
       "      <th></th>\n",
       "      <th>subject_race</th>\n",
       "      <th>black</th>\n",
       "      <th>hispanic</th>\n",
       "      <th>white</th>\n",
       "      <th>black</th>\n",
       "      <th>hispanic</th>\n",
       "      <th>white</th>\n",
       "      <th>black</th>\n",
       "      <th>hispanic</th>\n",
       "      <th>white</th>\n",
       "      <th>black</th>\n",
       "      <th>...</th>\n",
       "      <th>white</th>\n",
       "      <th>black</th>\n",
       "      <th>hispanic</th>\n",
       "      <th>white</th>\n",
       "      <th>black</th>\n",
       "      <th>hispanic</th>\n",
       "      <th>white</th>\n",
       "      <th>black</th>\n",
       "      <th>hispanic</th>\n",
       "      <th>white</th>\n",
       "    </tr>\n",
       "    <tr>\n",
       "      <th>party</th>\n",
       "      <th>state</th>\n",
       "      <th>subgeography</th>\n",
       "      <th></th>\n",
       "      <th></th>\n",
       "      <th></th>\n",
       "      <th></th>\n",
       "      <th></th>\n",
       "      <th></th>\n",
       "      <th></th>\n",
       "      <th></th>\n",
       "      <th></th>\n",
       "      <th></th>\n",
       "      <th></th>\n",
       "      <th></th>\n",
       "      <th></th>\n",
       "      <th></th>\n",
       "      <th></th>\n",
       "      <th></th>\n",
       "      <th></th>\n",
       "      <th></th>\n",
       "      <th></th>\n",
       "      <th></th>\n",
       "      <th></th>\n",
       "    </tr>\n",
       "  </thead>\n",
       "  <tbody>\n",
       "    <tr>\n",
       "      <th rowspan=\"5\" valign=\"top\">blue</th>\n",
       "      <th rowspan=\"5\" valign=\"top\">CT</th>\n",
       "      <th>Fairfield County</th>\n",
       "      <td>0.029384</td>\n",
       "      <td>0.020520</td>\n",
       "      <td>0.013487</td>\n",
       "      <td>0.073116</td>\n",
       "      <td>0.039236</td>\n",
       "      <td>0.065458</td>\n",
       "      <td>0.315113</td>\n",
       "      <td>0.257426</td>\n",
       "      <td>0.356108</td>\n",
       "      <td>0.171864</td>\n",
       "      <td>...</td>\n",
       "      <td>0.223550</td>\n",
       "      <td>5080.32</td>\n",
       "      <td>4725.12</td>\n",
       "      <td>17189.76</td>\n",
       "      <td>25650.72</td>\n",
       "      <td>21654.72</td>\n",
       "      <td>160113.12</td>\n",
       "      <td>149.28</td>\n",
       "      <td>96.96</td>\n",
       "      <td>231.84</td>\n",
       "    </tr>\n",
       "    <tr>\n",
       "      <th>Hartford County</th>\n",
       "      <td>0.036567</td>\n",
       "      <td>0.036986</td>\n",
       "      <td>0.012005</td>\n",
       "      <td>0.073116</td>\n",
       "      <td>0.039236</td>\n",
       "      <td>0.065458</td>\n",
       "      <td>0.303398</td>\n",
       "      <td>0.294776</td>\n",
       "      <td>0.319820</td>\n",
       "      <td>0.155822</td>\n",
       "      <td>...</td>\n",
       "      <td>0.238114</td>\n",
       "      <td>5408.16</td>\n",
       "      <td>3623.00</td>\n",
       "      <td>17752.80</td>\n",
       "      <td>25650.72</td>\n",
       "      <td>21654.72</td>\n",
       "      <td>160113.12</td>\n",
       "      <td>197.76</td>\n",
       "      <td>134.00</td>\n",
       "      <td>213.12</td>\n",
       "    </tr>\n",
       "    <tr>\n",
       "      <th>Litchfield County</th>\n",
       "      <td>0.034749</td>\n",
       "      <td>0.038982</td>\n",
       "      <td>0.016265</td>\n",
       "      <td>0.073116</td>\n",
       "      <td>0.039236</td>\n",
       "      <td>0.065458</td>\n",
       "      <td>0.301587</td>\n",
       "      <td>0.438776</td>\n",
       "      <td>0.413978</td>\n",
       "      <td>0.184323</td>\n",
       "      <td>...</td>\n",
       "      <td>0.262494</td>\n",
       "      <td>906.50</td>\n",
       "      <td>1257.00</td>\n",
       "      <td>16466.88</td>\n",
       "      <td>25650.72</td>\n",
       "      <td>21654.72</td>\n",
       "      <td>160113.12</td>\n",
       "      <td>31.50</td>\n",
       "      <td>49.00</td>\n",
       "      <td>267.84</td>\n",
       "    </tr>\n",
       "    <tr>\n",
       "      <th>New Haven County</th>\n",
       "      <td>0.028742</td>\n",
       "      <td>0.030105</td>\n",
       "      <td>0.011492</td>\n",
       "      <td>0.073116</td>\n",
       "      <td>0.039236</td>\n",
       "      <td>0.065458</td>\n",
       "      <td>0.247191</td>\n",
       "      <td>0.302548</td>\n",
       "      <td>0.357401</td>\n",
       "      <td>0.166497</td>\n",
       "      <td>...</td>\n",
       "      <td>0.233488</td>\n",
       "      <td>5945.28</td>\n",
       "      <td>5006.40</td>\n",
       "      <td>23139.36</td>\n",
       "      <td>25650.72</td>\n",
       "      <td>21654.72</td>\n",
       "      <td>160113.12</td>\n",
       "      <td>170.88</td>\n",
       "      <td>150.72</td>\n",
       "      <td>265.92</td>\n",
       "    </tr>\n",
       "    <tr>\n",
       "      <th>New London County</th>\n",
       "      <td>0.031647</td>\n",
       "      <td>0.029246</td>\n",
       "      <td>0.014475</td>\n",
       "      <td>0.073116</td>\n",
       "      <td>0.039236</td>\n",
       "      <td>0.065458</td>\n",
       "      <td>0.331683</td>\n",
       "      <td>0.325926</td>\n",
       "      <td>0.335580</td>\n",
       "      <td>0.172387</td>\n",
       "      <td>...</td>\n",
       "      <td>0.225318</td>\n",
       "      <td>3063.84</td>\n",
       "      <td>2215.68</td>\n",
       "      <td>24605.76</td>\n",
       "      <td>25650.72</td>\n",
       "      <td>21654.72</td>\n",
       "      <td>160113.12</td>\n",
       "      <td>96.96</td>\n",
       "      <td>64.80</td>\n",
       "      <td>356.16</td>\n",
       "    </tr>\n",
       "  </tbody>\n",
       "</table>\n",
       "<p>5 rows × 21 columns</p>\n",
       "</div>"
      ],
      "text/plain": [
       "                              search_rate                     stop_rate  \\\n",
       "subject_race                        black  hispanic     white     black   \n",
       "party state subgeography                                                  \n",
       "blue  CT    Fairfield County     0.029384  0.020520  0.013487  0.073116   \n",
       "            Hartford County      0.036567  0.036986  0.012005  0.073116   \n",
       "            Litchfield County    0.034749  0.038982  0.016265  0.073116   \n",
       "            New Haven County     0.028742  0.030105  0.011492  0.073116   \n",
       "            New London County    0.031647  0.029246  0.014475  0.073116   \n",
       "\n",
       "                                                   hit_rate            \\\n",
       "subject_race                   hispanic     white     black  hispanic   \n",
       "party state subgeography                                                \n",
       "blue  CT    Fairfield County   0.039236  0.065458  0.315113  0.257426   \n",
       "            Hartford County    0.039236  0.065458  0.303398  0.294776   \n",
       "            Litchfield County  0.039236  0.065458  0.301587  0.438776   \n",
       "            New Haven County   0.039236  0.065458  0.247191  0.302548   \n",
       "            New London County  0.039236  0.065458  0.331683  0.325926   \n",
       "\n",
       "                                        inferred_threshold  ...            \\\n",
       "subject_race                      white              black  ...     white   \n",
       "party state subgeography                                    ...             \n",
       "blue  CT    Fairfield County   0.356108           0.171864  ...  0.223550   \n",
       "            Hartford County    0.319820           0.155822  ...  0.238114   \n",
       "            Litchfield County  0.413978           0.184323  ...  0.262494   \n",
       "            New Haven County   0.357401           0.166497  ...  0.233488   \n",
       "            New London County  0.335580           0.172387  ...  0.225318   \n",
       "\n",
       "                              stops_per_year                    stop_rate_n  \\\n",
       "subject_race                           black hispanic     white       black   \n",
       "party state subgeography                                                      \n",
       "blue  CT    Fairfield County         5080.32  4725.12  17189.76    25650.72   \n",
       "            Hartford County          5408.16  3623.00  17752.80    25650.72   \n",
       "            Litchfield County         906.50  1257.00  16466.88    25650.72   \n",
       "            New Haven County         5945.28  5006.40  23139.36    25650.72   \n",
       "            New London County        3063.84  2215.68  24605.76    25650.72   \n",
       "\n",
       "                                                   nb_search                   \n",
       "subject_race                   hispanic      white     black hispanic   white  \n",
       "party state subgeography                                                       \n",
       "blue  CT    Fairfield County   21654.72  160113.12    149.28    96.96  231.84  \n",
       "            Hartford County    21654.72  160113.12    197.76   134.00  213.12  \n",
       "            Litchfield County  21654.72  160113.12     31.50    49.00  267.84  \n",
       "            New Haven County   21654.72  160113.12    170.88   150.72  265.92  \n",
       "            New London County  21654.72  160113.12     96.96    64.80  356.16  \n",
       "\n",
       "[5 rows x 21 columns]"
      ]
     },
     "execution_count": 169,
     "metadata": {},
     "output_type": "execute_result"
    }
   ],
   "source": [
    "blue = df[df['party'].str.contains('blue')].reset_index(drop = True)\n",
    "red = df[df['party'].str.contains('red')].reset_index(drop = True)\n",
    "full = pd.concat([blue,red]).reset_index(drop = True)\n",
    "full_pivot = full.pivot(index = ['party', 'state', 'subgeography'] , columns = 'subject_race')\n",
    "full_pivot.head()"
   ]
  },
  {
   "cell_type": "markdown",
   "metadata": {},
   "source": [
    "We will be examining hit rates and threshold, they are computed individually for each subject race and each county.\n",
    "\n",
    "These variables are ....\n",
    "\n",
    "They depend on the number of searches:"
   ]
  },
  {
   "cell_type": "code",
   "execution_count": 170,
   "metadata": {},
   "outputs": [
    {
     "data": {
      "text/plain": [
       "(118.81183750799273, 70.39172426420102)"
      ]
     },
     "execution_count": 170,
     "metadata": {},
     "output_type": "execute_result"
    },
    {
     "data": {
      "image/png": "[encoded data removed]",
      "text/plain": [
       "<Figure size 432x288 with 1 Axes>"
      ]
     },
     "metadata": {
      "needs_background": "light"
     },
     "output_type": "display_data"
    }
   ],
   "source": [
    "g = sns.distplot(blue.nb_search, label = 'blue states')\n",
    "sns.distplot(red.nb_search, label = 'red states', ax = g)\n",
    "plt.legend()\n",
    "full.nb_search.mean(), full.nb_search.median()"
   ]
  },
  {
   "cell_type": "markdown",
   "metadata": {},
   "source": [
    "As we can see the number of searches per county and per subject race follows a power law distribution. This is indeed due to the fact that, like city sizes, county sizes follow a power law distribution since there is a majority of small, low population counties with a heavy tail of large counties with high population."
   ]
  },
  {
   "cell_type": "code",
   "execution_count": 171,
   "metadata": {},
   "outputs": [
    {
     "data": {
      "text/plain": [
       "(0.3033774690616758, 0.3561253711992615)"
      ]
     },
     "execution_count": 171,
     "metadata": {},
     "output_type": "execute_result"
    },
    {
     "data": {
      "image/png": "[encoded data removed]",
      "text/plain": [
       "<Figure size 797.625x360 with 2 Axes>"
      ]
     },
     "metadata": {
      "needs_background": "light"
     },
     "output_type": "display_data"
    },
    {
     "data": {
      "image/png": "[encoded data removed]",
      "text/plain": [
       "<Figure size 797.625x360 with 2 Axes>"
      ]
     },
     "metadata": {
      "needs_background": "light"
     },
     "output_type": "display_data"
    }
   ],
   "source": [
    "#we can add distribution of hit rate and threshold but boxplots look fine to me.\n",
    "sns.displot(data=full, x=\"hit_rate\", hue=\"subject_race\", col=\"party\", kde = True)\n",
    "# fig, axes = plt.subplots(2,2,figsize = (8,8))\n",
    "# parties = [blue,red]\n",
    "# value = ['hit_rate', 'inferred_threshold']\n",
    "# for i in range(4):\n",
    "#     print(i%2)\n",
    "#     sns.kdeplot(data=parties[i%2], x=value[i%2], hue=\"subject_race\", ax = axes[i%2,i%2])\n",
    "\n",
    "# fig,ax=plt.subplots()\n",
    "\n",
    "sns.displot(data=full, x=\"inferred_threshold\", hue=\"subject_race\", col=\"party\", kde=True)\n",
    "# we can plot the non weighted vs weighted means for blue and red states to compare with the distribution\n",
    "blue.hit_rate.mean(), red.hit_rate.mean()"
   ]
  },
  {
   "cell_type": "markdown",
   "metadata": {},
   "source": [
    "These distributions hint that there may be an underlying subdistribution in the red states. This is probably due to only having two red states which may have rather different policing trends. We can also note that the values are quite far from being normally distributed."
   ]
  },
  {
   "cell_type": "code",
   "execution_count": 172,
   "metadata": {},
   "outputs": [
    {
     "name": "stdout",
     "output_type": "stream",
     "text": [
      "(0.06327091097213672, 0.5048916402425464)\n",
      "(0.06421953443341571, 0.0009999999999998899)\n",
      "(0.1007900857526729, 0.5778193798896908)\n",
      "(0.13244668732730136, 0.1885279279732509)\n",
      "(0.065747278715727, 0.17403441585970786)\n",
      "(0.07866208425108001, 0.0414062467744477)\n"
     ]
    }
   ],
   "source": [
    "# Here we do some diagnostics. \n",
    "# We want to know if the county specific, race specific hit rates and thresholds have normal distribution\n",
    "# We can do this either over the full dataframe or over the blue and red dataframes separately\n",
    "print(diagnostic.kstest_normal(blue.hit_rate, dist = 'norm'))\n",
    "print(diagnostic.kstest_normal(red.hit_rate, dist = 'norm'))\n",
    "print(diagnostic.kstest_normal(full_pivot.loc['blue'].hit_rate.white, dist = 'norm'))\n",
    "print(diagnostic.kstest_normal(full_pivot.loc['blue'].inferred_threshold.hispanic, dist = 'norm'))\n",
    "print(diagnostic.kstest_normal(full_pivot.loc['red'].hit_rate.white, dist = 'norm'))\n",
    "print(diagnostic.kstest_normal(full_pivot.loc['red'].inferred_threshold.hispanic, dist = 'norm'))"
   ]
  },
  {
   "cell_type": "code",
   "execution_count": 173,
   "metadata": {},
   "outputs": [
    {
     "data": {
      "text/plain": [
       "<AxesSubplot:xlabel='subject_race', ylabel='inferred_threshold'>"
      ]
     },
     "execution_count": 173,
     "metadata": {},
     "output_type": "execute_result"
    },
    {
     "data": {
      "image/png": "[encoded data removed]",
      "text/plain": [
       "<Figure size 720x360 with 2 Axes>"
      ]
     },
     "metadata": {
      "needs_background": "light"
     },
     "output_type": "display_data"
    }
   ],
   "source": [
    "# boxplots also give a good representation of distribution and shit\n",
    "fig, ax = plt.subplots(1,2, figsize = (10,5))\n",
    "sns.boxplot(data=full, y=\"hit_rate\", x=\"subject_race\", hue = 'party', ax = ax[0])\n",
    "sns.boxplot(data=full, y=\"inferred_threshold\", x=\"subject_race\", hue = 'party', ax = ax[1])"
   ]
  },
  {
   "cell_type": "markdown",
   "metadata": {},
   "source": [
    "We describe here our two variables of interest over our whole working dataset (blue and red states).\n",
    "Values look overall pretty close, hispanic rates being lower."
   ]
  },
  {
   "cell_type": "markdown",
   "metadata": {},
   "source": [
    "Now its time to test our data, but for this we need to know what test to use and to know what test to use we need to know what kind of distribution the data has. Therefore we use statistical tests."
   ]
  },
  {
   "cell_type": "code",
   "execution_count": null,
   "metadata": {},
   "outputs": [],
   "source": []
  },
  {
   "cell_type": "code",
   "execution_count": 174,
   "metadata": {},
   "outputs": [
    {
     "name": "stdout",
     "output_type": "stream",
     "text": [
      "SpearmanrResult(correlation=0.8585609764310043, pvalue=2.4298148536076406e-157)\n",
      "SpearmanrResult(correlation=-0.13885515863802225, pvalue=0.0012559093273109832)\n",
      "SpearmanrResult(correlation=-0.23679512999655253, pvalue=2.796766404058407e-08)\n"
     ]
    }
   ],
   "source": [
    "# both these tests allow us to examine correlation between two variables\n",
    "# we can for example look at the correlation between a dependent variable and the hit rate or threshold as these are the independent\n",
    "# variables we would like to assess\n",
    "# spearman does not take the assumption that data is normally distributed\n",
    "print(stats.spearmanr(full['inferred_threshold'],full['hit_rate']))\n",
    "print(stats.spearmanr(full['nb_search'],full['hit_rate']))\n",
    "print(stats.spearmanr(full['nb_search'],full['inferred_threshold']))"
   ]
  },
  {
   "cell_type": "markdown",
   "metadata": {},
   "source": [
    "We can see for example that hit rate and threshold are quite well correlated whereas number of searches and hit_rate are actually negatively correlated! This shows that increasing the number of searches may not actually increase the chances of finding contraband. Rather the more you search the more likely you are to find nothing. "
   ]
  },
  {
   "cell_type": "code",
   "execution_count": 175,
   "metadata": {},
   "outputs": [
    {
     "name": "stdout",
     "output_type": "stream",
     "text": [
      "SpearmanrResult(correlation=0.148823185358741, pvalue=0.0710390610171311)\n",
      "SpearmanrResult(correlation=-0.42128284611037853, pvalue=4.292020147034426e-09)\n",
      "SpearmanrResult(correlation=0.12712871577165907, pvalue=0.08991654432313753)\n"
     ]
    }
   ],
   "source": [
    "print(stats.spearmanr(full_pivot.loc['red']['nb_search','hispanic'],full_pivot.loc['red']['hit_rate','hispanic']))\n",
    "print(stats.spearmanr(full_pivot['nb_search','black'], full_pivot['hit_rate','black']))\n",
    "print(stats.spearmanr(full_pivot['nb_search','hispanic'], full_pivot['hit_rate','hispanic']))"
   ]
  },
  {
   "cell_type": "markdown",
   "metadata": {},
   "source": [
    "We can see above how we might use correlation to explore some causalities, however this is quite naive and superficial analysis.\n",
    "\n",
    "Our objective is to compare our independent variables (hit rate and inferred threshold) between blue and red states. Nevertheless, the visualizations are not enough to see a difference. Therefore, we will carry out tests on these variables to determine if significant differences exist between blue and red states. \n",
    "\n",
    "First we will calculate the mean race specific hit rates and thresholds for blue states and red states. This can be done by giving each county an equal weight (unweighted mean) or giving each county a weight proportional to the race specific number of searches (weighted mean).\n",
    "Then we choose a statistical test and carry it out to compare race specific, party specific mean hit rates and thresholds."
   ]
  },
  {
   "cell_type": "code",
   "execution_count": 176,
   "metadata": {},
   "outputs": [
    {
     "name": "stdout",
     "output_type": "stream",
     "text": [
      "unweighted means: 0.3033774690616758 0.3561253711992615 0.15203333226969742 0.2245221985323473\n"
     ]
    }
   ],
   "source": [
    "print(\"unweighted means:\", blue.hit_rate.mean(), red.hit_rate.mean(), blue.inferred_threshold.mean(), red.inferred_threshold.mean())"
   ]
  },
  {
   "cell_type": "code",
   "execution_count": 177,
   "metadata": {},
   "outputs": [
    {
     "data": {
      "text/html": [
       "<div>\n",
       "<style scoped>\n",
       "    .dataframe tbody tr th:only-of-type {\n",
       "        vertical-align: middle;\n",
       "    }\n",
       "\n",
       "    .dataframe tbody tr th {\n",
       "        vertical-align: top;\n",
       "    }\n",
       "\n",
       "    .dataframe thead th {\n",
       "        text-align: right;\n",
       "    }\n",
       "</style>\n",
       "<table border=\"1\" class=\"dataframe\">\n",
       "  <thead>\n",
       "    <tr style=\"text-align: right;\">\n",
       "      <th></th>\n",
       "      <th></th>\n",
       "      <th>hit_rate</th>\n",
       "      <th>inferred_threshold</th>\n",
       "    </tr>\n",
       "    <tr>\n",
       "      <th>party</th>\n",
       "      <th>subject_race</th>\n",
       "      <th></th>\n",
       "      <th></th>\n",
       "    </tr>\n",
       "  </thead>\n",
       "  <tbody>\n",
       "    <tr>\n",
       "      <th rowspan=\"3\" valign=\"top\">blue</th>\n",
       "      <th>black</th>\n",
       "      <td>0.325693</td>\n",
       "      <td>0.127468</td>\n",
       "    </tr>\n",
       "    <tr>\n",
       "      <th>hispanic</th>\n",
       "      <td>0.248095</td>\n",
       "      <td>0.124068</td>\n",
       "    </tr>\n",
       "    <tr>\n",
       "      <th>white</th>\n",
       "      <td>0.336344</td>\n",
       "      <td>0.204564</td>\n",
       "    </tr>\n",
       "    <tr>\n",
       "      <th rowspan=\"3\" valign=\"top\">red</th>\n",
       "      <th>black</th>\n",
       "      <td>0.384179</td>\n",
       "      <td>0.245381</td>\n",
       "    </tr>\n",
       "    <tr>\n",
       "      <th>hispanic</th>\n",
       "      <td>0.294927</td>\n",
       "      <td>0.171971</td>\n",
       "    </tr>\n",
       "    <tr>\n",
       "      <th>white</th>\n",
       "      <td>0.389270</td>\n",
       "      <td>0.256215</td>\n",
       "    </tr>\n",
       "  </tbody>\n",
       "</table>\n",
       "</div>"
      ],
      "text/plain": [
       "                    hit_rate  inferred_threshold\n",
       "party subject_race                              \n",
       "blue  black         0.325693            0.127468\n",
       "      hispanic      0.248095            0.124068\n",
       "      white         0.336344            0.204564\n",
       "red   black         0.384179            0.245381\n",
       "      hispanic      0.294927            0.171971\n",
       "      white         0.389270            0.256215"
      ]
     },
     "execution_count": 177,
     "metadata": {},
     "output_type": "execute_result"
    }
   ],
   "source": [
    "full.head()\n",
    "full.groupby(['party','subject_race']).mean().loc[:,'hit_rate':'inferred_threshold']"
   ]
  },
  {
   "cell_type": "markdown",
   "metadata": {},
   "source": [
    "Now we calculate the weighted means by giving each county a race specific weight. \n",
    "\n",
    "Each row will hence get a weight: \n",
    "w(i) = nb_search(i)/sum(nb_search of corresponding race in dataframe)\n",
    "\n",
    "This will be done for blue and red dataframe so as to give higher weight to counties with a lot of searches and less to counties with few."
   ]
  },
  {
   "cell_type": "code",
   "execution_count": 178,
   "metadata": {},
   "outputs": [],
   "source": [
    "def get_weight(nb_search):\n",
    "    return nb_search/nb_search.sum()\n",
    "def get_normalize(values):\n",
    "    return values/values.white\n",
    "# def weighted_mean()"
   ]
  },
  {
   "cell_type": "code",
   "execution_count": 179,
   "metadata": {},
   "outputs": [],
   "source": [
    "import warnings\n",
    "warnings.filterwarnings('ignore')\n",
    "\n",
    "weights = full_pivot.loc['blue'].nb_search.apply(get_weight, axis = 0).stack('subject_race').reset_index().rename(columns = {0:'weight'})\n",
    "blue = blue.merge(weights, on = ['subgeography','state', 'subject_race'])\n",
    "\n",
    "weights = full_pivot.loc['red'].nb_search.apply(get_weight, axis = 0).stack('subject_race').reset_index().rename(columns = {0:'weight'})\n",
    "red = red.merge(weights, on = ['subgeography','state', 'subject_race'])\n",
    "\n",
    "\n",
    "#create dataframes with normalized values, using the pivoted dataframe so we can apply get normalize to each row containing race specific\n",
    "hit_rate_normalized = full_pivot.hit_rate.apply(get_normalize, axis = 1).stack('subject_race').reset_index().rename(columns = {0:'hit_rate_normalized'})\n",
    "threshold_normalized = full_pivot.inferred_threshold.apply(get_normalize, axis = 1).stack('subject_race').reset_index().rename(columns = {0:'threshold_normalized'})\n",
    "\n",
    "blue = blue.merge(hit_rate_normalized.merge(threshold_normalized), on = ['subgeography','state', 'subject_race','party'])\n",
    "red = red.merge(hit_rate_normalized.merge(threshold_normalized), on = ['subgeography','state', 'subject_race','party'])\n",
    "\n",
    "\n",
    "blue['hit_rate_weighted'] = blue.hit_rate*blue.weight\n",
    "blue['threshold_weighted'] = blue.inferred_threshold*blue.weight\n",
    "red['hit_rate_weighted'] = red.hit_rate*red.weight\n",
    "red['threshold_weighted'] = red.inferred_threshold*red.weight\n",
    "blue['hit_rate_weighted_normalized'] = blue.hit_rate_normalized*blue.weight\n",
    "blue['threshold_weighted_normalized'] = blue.threshold_normalized*blue.weight\n",
    "red['hit_rate_weighted_normalized'] = red.hit_rate_normalized*red.weight\n",
    "red['threshold_weighted_normalized'] = red.threshold_normalized*red.weight"
   ]
  },
  {
   "cell_type": "code",
   "execution_count": 180,
   "metadata": {},
   "outputs": [
    {
     "data": {
      "text/html": [
       "<div>\n",
       "<style scoped>\n",
       "    .dataframe tbody tr th:only-of-type {\n",
       "        vertical-align: middle;\n",
       "    }\n",
       "\n",
       "    .dataframe tbody tr th {\n",
       "        vertical-align: top;\n",
       "    }\n",
       "\n",
       "    .dataframe thead th {\n",
       "        text-align: right;\n",
       "    }\n",
       "</style>\n",
       "<table border=\"1\" class=\"dataframe\">\n",
       "  <thead>\n",
       "    <tr style=\"text-align: right;\">\n",
       "      <th></th>\n",
       "      <th>search_rate</th>\n",
       "      <th>stop_rate</th>\n",
       "      <th>hit_rate</th>\n",
       "      <th>inferred_threshold</th>\n",
       "      <th>stops_per_year</th>\n",
       "      <th>stop_rate_n</th>\n",
       "      <th>nb_search</th>\n",
       "      <th>weight</th>\n",
       "      <th>hit_rate_normalized</th>\n",
       "      <th>threshold_normalized</th>\n",
       "      <th>hit_rate_weighted</th>\n",
       "      <th>threshold_weighted</th>\n",
       "      <th>hit_rate_weighted_normalized</th>\n",
       "      <th>threshold_weighted_normalized</th>\n",
       "    </tr>\n",
       "    <tr>\n",
       "      <th>subject_race</th>\n",
       "      <th></th>\n",
       "      <th></th>\n",
       "      <th></th>\n",
       "      <th></th>\n",
       "      <th></th>\n",
       "      <th></th>\n",
       "      <th></th>\n",
       "      <th></th>\n",
       "      <th></th>\n",
       "      <th></th>\n",
       "      <th></th>\n",
       "      <th></th>\n",
       "      <th></th>\n",
       "      <th></th>\n",
       "    </tr>\n",
       "  </thead>\n",
       "  <tbody>\n",
       "    <tr>\n",
       "      <th>black</th>\n",
       "      <td>0.034480</td>\n",
       "      <td>0.098364</td>\n",
       "      <td>0.384179</td>\n",
       "      <td>0.245381</td>\n",
       "      <td>2878.668220</td>\n",
       "      <td>226350.906342</td>\n",
       "      <td>91.270352</td>\n",
       "      <td>0.006757</td>\n",
       "      <td>1.011336</td>\n",
       "      <td>0.968235</td>\n",
       "      <td>0.002199</td>\n",
       "      <td>0.001264</td>\n",
       "      <td>0.007221</td>\n",
       "      <td>0.006260</td>\n",
       "    </tr>\n",
       "    <tr>\n",
       "      <th>hispanic</th>\n",
       "      <td>0.038760</td>\n",
       "      <td>0.080105</td>\n",
       "      <td>0.294927</td>\n",
       "      <td>0.171971</td>\n",
       "      <td>3055.606840</td>\n",
       "      <td>575489.089351</td>\n",
       "      <td>78.950636</td>\n",
       "      <td>0.006757</td>\n",
       "      <td>0.742274</td>\n",
       "      <td>0.659872</td>\n",
       "      <td>0.001959</td>\n",
       "      <td>0.001122</td>\n",
       "      <td>0.005222</td>\n",
       "      <td>0.004697</td>\n",
       "    </tr>\n",
       "    <tr>\n",
       "      <th>white</th>\n",
       "      <td>0.017934</td>\n",
       "      <td>0.105538</td>\n",
       "      <td>0.389270</td>\n",
       "      <td>0.256215</td>\n",
       "      <td>8288.457356</td>\n",
       "      <td>929772.681121</td>\n",
       "      <td>153.823901</td>\n",
       "      <td>0.006757</td>\n",
       "      <td>1.000000</td>\n",
       "      <td>1.000000</td>\n",
       "      <td>0.002238</td>\n",
       "      <td>0.001425</td>\n",
       "      <td>0.006757</td>\n",
       "      <td>0.006757</td>\n",
       "    </tr>\n",
       "  </tbody>\n",
       "</table>\n",
       "</div>"
      ],
      "text/plain": [
       "              search_rate  stop_rate  hit_rate  inferred_threshold  \\\n",
       "subject_race                                                         \n",
       "black            0.034480   0.098364  0.384179            0.245381   \n",
       "hispanic         0.038760   0.080105  0.294927            0.171971   \n",
       "white            0.017934   0.105538  0.389270            0.256215   \n",
       "\n",
       "              stops_per_year    stop_rate_n   nb_search    weight  \\\n",
       "subject_race                                                        \n",
       "black            2878.668220  226350.906342   91.270352  0.006757   \n",
       "hispanic         3055.606840  575489.089351   78.950636  0.006757   \n",
       "white            8288.457356  929772.681121  153.823901  0.006757   \n",
       "\n",
       "              hit_rate_normalized  threshold_normalized  hit_rate_weighted  \\\n",
       "subject_race                                                                 \n",
       "black                    1.011336              0.968235           0.002199   \n",
       "hispanic                 0.742274              0.659872           0.001959   \n",
       "white                    1.000000              1.000000           0.002238   \n",
       "\n",
       "              threshold_weighted  hit_rate_weighted_normalized  \\\n",
       "subject_race                                                     \n",
       "black                   0.001264                      0.007221   \n",
       "hispanic                0.001122                      0.005222   \n",
       "white                   0.001425                      0.006757   \n",
       "\n",
       "              threshold_weighted_normalized  \n",
       "subject_race                                 \n",
       "black                              0.006260  \n",
       "hispanic                           0.004697  \n",
       "white                              0.006757  "
      ]
     },
     "execution_count": 180,
     "metadata": {},
     "output_type": "execute_result"
    }
   ],
   "source": [
    "blue\n",
    "red.groupby('subject_race').mean()"
   ]
  },
  {
   "cell_type": "code",
   "execution_count": 181,
   "metadata": {},
   "outputs": [],
   "source": [
    "results_blue = pd.concat([blue.groupby('subject_race').mean().loc[:,['hit_rate','inferred_threshold','hit_rate_normalized','threshold_normalized']],\n",
    "          blue.groupby('subject_race').sum().loc[:,'hit_rate_weighted':]],\n",
    "          axis =1).T"
   ]
  },
  {
   "cell_type": "code",
   "execution_count": 182,
   "metadata": {},
   "outputs": [],
   "source": [
    "results_red = pd.concat([red.groupby('subject_race').mean().loc[:,['hit_rate','inferred_threshold','hit_rate_normalized','threshold_normalized']],\n",
    "          red.groupby('subject_race').sum().loc[:,'hit_rate_weighted':]],\n",
    "          axis =1).T"
   ]
  },
  {
   "cell_type": "code",
   "execution_count": 183,
   "metadata": {},
   "outputs": [
    {
     "data": {
      "text/html": [
       "<table style=\"display:inline\" border=\"1\" class=\"dataframe\">\n",
       "  <thead>\n",
       "    <tr style=\"text-align: right;\">\n",
       "      <th>subject_race</th>\n",
       "      <th>black</th>\n",
       "      <th>hispanic</th>\n",
       "      <th>white</th>\n",
       "    </tr>\n",
       "  </thead>\n",
       "  <tbody>\n",
       "    <tr>\n",
       "      <th>hit_rate</th>\n",
       "      <td>0.325693</td>\n",
       "      <td>0.248095</td>\n",
       "      <td>0.336344</td>\n",
       "    </tr>\n",
       "    <tr>\n",
       "      <th>inferred_threshold</th>\n",
       "      <td>0.127468</td>\n",
       "      <td>0.124068</td>\n",
       "      <td>0.204564</td>\n",
       "    </tr>\n",
       "    <tr>\n",
       "      <th>hit_rate_normalized</th>\n",
       "      <td>0.979727</td>\n",
       "      <td>0.728333</td>\n",
       "      <td>1.000000</td>\n",
       "    </tr>\n",
       "    <tr>\n",
       "      <th>threshold_normalized</th>\n",
       "      <td>0.608307</td>\n",
       "      <td>0.595508</td>\n",
       "      <td>1.000000</td>\n",
       "    </tr>\n",
       "    <tr>\n",
       "      <th>hit_rate_weighted</th>\n",
       "      <td>0.269347</td>\n",
       "      <td>0.221746</td>\n",
       "      <td>0.332913</td>\n",
       "    </tr>\n",
       "    <tr>\n",
       "      <th>threshold_weighted</th>\n",
       "      <td>0.090865</td>\n",
       "      <td>0.105771</td>\n",
       "      <td>0.200126</td>\n",
       "    </tr>\n",
       "    <tr>\n",
       "      <th>hit_rate_weighted_normalized</th>\n",
       "      <td>0.904966</td>\n",
       "      <td>0.685482</td>\n",
       "      <td>1.000000</td>\n",
       "    </tr>\n",
       "    <tr>\n",
       "      <th>threshold_weighted_normalized</th>\n",
       "      <td>0.492870</td>\n",
       "      <td>0.565019</td>\n",
       "      <td>1.000000</td>\n",
       "    </tr>\n",
       "  </tbody>\n",
       "</table style=\"display:inline\"><table style=\"display:inline\" border=\"1\" class=\"dataframe\">\n",
       "  <thead>\n",
       "    <tr style=\"text-align: right;\">\n",
       "      <th>subject_race</th>\n",
       "      <th>black</th>\n",
       "      <th>hispanic</th>\n",
       "      <th>white</th>\n",
       "    </tr>\n",
       "  </thead>\n",
       "  <tbody>\n",
       "    <tr>\n",
       "      <th>hit_rate</th>\n",
       "      <td>0.384179</td>\n",
       "      <td>0.294927</td>\n",
       "      <td>0.389270</td>\n",
       "    </tr>\n",
       "    <tr>\n",
       "      <th>inferred_threshold</th>\n",
       "      <td>0.245381</td>\n",
       "      <td>0.171971</td>\n",
       "      <td>0.256215</td>\n",
       "    </tr>\n",
       "    <tr>\n",
       "      <th>hit_rate_normalized</th>\n",
       "      <td>1.011336</td>\n",
       "      <td>0.742274</td>\n",
       "      <td>1.000000</td>\n",
       "    </tr>\n",
       "    <tr>\n",
       "      <th>threshold_normalized</th>\n",
       "      <td>0.968235</td>\n",
       "      <td>0.659872</td>\n",
       "      <td>1.000000</td>\n",
       "    </tr>\n",
       "    <tr>\n",
       "      <th>hit_rate_weighted</th>\n",
       "      <td>0.325513</td>\n",
       "      <td>0.289928</td>\n",
       "      <td>0.331246</td>\n",
       "    </tr>\n",
       "    <tr>\n",
       "      <th>threshold_weighted</th>\n",
       "      <td>0.187121</td>\n",
       "      <td>0.166022</td>\n",
       "      <td>0.210968</td>\n",
       "    </tr>\n",
       "    <tr>\n",
       "      <th>hit_rate_weighted_normalized</th>\n",
       "      <td>1.068757</td>\n",
       "      <td>0.772833</td>\n",
       "      <td>1.000000</td>\n",
       "    </tr>\n",
       "    <tr>\n",
       "      <th>threshold_weighted_normalized</th>\n",
       "      <td>0.926526</td>\n",
       "      <td>0.695199</td>\n",
       "      <td>1.000000</td>\n",
       "    </tr>\n",
       "  </tbody>\n",
       "</table style=\"display:inline\">"
      ]
     },
     "metadata": {},
     "output_type": "display_data"
    }
   ],
   "source": [
    "from IPython.display import display_html\n",
    "def display_side_by_side(*args):\n",
    "    html_str=''\n",
    "    for df in args:\n",
    "        html_str+=df.to_html()\n",
    "    display_html(html_str.replace('table','table style=\"display:inline\"'),raw=True)\n",
    "display_side_by_side(results_blue,results_red)"
   ]
  },
  {
   "cell_type": "markdown",
   "metadata": {},
   "source": [
    "Here we have two tables (blue on the left red on the right), they contain party average race specific hit rates and inferred thresholds given no change, normalization with respect to white values, weighted average calculation and weighted average of normalized data."
   ]
  },
  {
   "cell_type": "markdown",
   "metadata": {},
   "source": [
    "Comparing red results vs blue results shows that normalized means are lower in blue states than in red states. Also, while weighted means"
   ]
  },
  {
   "cell_type": "code",
   "execution_count": null,
   "metadata": {},
   "outputs": [],
   "source": []
  },
  {
   "cell_type": "code",
   "execution_count": 184,
   "metadata": {},
   "outputs": [
    {
     "name": "stdout",
     "output_type": "stream",
     "text": [
      "MannwhitneyuResult(statistic=15116.0, pvalue=4.8241199695765465e-05)\n",
      "MannwhitneyuResult(statistic=19562.5, pvalue=0.4171405489457858)\n"
     ]
    }
   ],
   "source": [
    "# compare normalized hit rate and threshold between red and blue\n",
    "# We use mannwhitney test because we ar comparing two samples but our values distribution are not normal\n",
    "print(stats.mannwhitneyu(blue.hit_rate, red.hit_rate, alternative='two-sided'))\n",
    "print(stats.mannwhitneyu(blue.hit_rate_normalized, red.hit_rate_normalized, alternative='two-sided'))\n"
   ]
  },
  {
   "cell_type": "markdown",
   "metadata": {},
   "source": [
    "We can see that normalizing is important as it does not give the same results at all. Without normalization the means are clearly not the same. However since the p value is not less than 0.05 we cannot reject the null hypothesis that mean hit rates are the same.\n",
    "\n",
    "Lets check out some more tests: (we only consider normalized values as only they can be compared)"
   ]
  },
  {
   "cell_type": "code",
   "execution_count": 185,
   "metadata": {},
   "outputs": [
    {
     "name": "stdout",
     "output_type": "stream",
     "text": [
      "mean threshold pvalue: 1.4028945443066947e-08\n",
      "mean black threshold pvalue: 1.0373127111540843e-16\n",
      "mean hispanic threshold pvalue: 0.0028206933708296938\n",
      "mean hit rate pvalue: 0.4171405489457858\n",
      "mean black hit rate pvalue: 0.5457188088401649\n",
      "mean hispanic hit rate pvalue: 0.7016478592647909\n"
     ]
    }
   ],
   "source": [
    "print(\"mean threshold pvalue:\", stats.mannwhitneyu(blue.threshold_normalized, red.threshold_normalized, alternative='two-sided')[1])\n",
    "print(\"mean black threshold pvalue:\", stats.mannwhitneyu(blue[blue.subject_race == 'black'].threshold_normalized, \n",
    "                         red[red.subject_race == 'black'].threshold_normalized, alternative='two-sided')[1])\n",
    "print(\"mean hispanic threshold pvalue:\", stats.mannwhitneyu(blue[blue.subject_race == 'hispanic'].threshold_normalized, \n",
    "                         red[red.subject_race == 'hispanic'].threshold_normalized, alternative='two-sided')[1])\n",
    "print(\"mean hit rate pvalue:\", stats.mannwhitneyu(blue.hit_rate_normalized, red.hit_rate_normalized, alternative='two-sided')[1])\n",
    "print(\"mean black hit rate pvalue:\", stats.mannwhitneyu(blue[blue.subject_race == 'black'].hit_rate_normalized, \n",
    "                         red[red.subject_race == 'black'].hit_rate_normalized, alternative='two-sided')[1])\n",
    "print(\"mean hispanic hit rate pvalue:\",stats.mannwhitneyu(blue[blue.subject_race == 'hispanic'].hit_rate_normalized, \n",
    "                         red[red.subject_race == 'hispanic'].hit_rate_normalized, alternative='two-sided')[1])"
   ]
  },
  {
   "cell_type": "markdown",
   "metadata": {},
   "source": [
    "Given these pvalues we can only reject the null hypothesis that the threshold means are the same and not the hit rate means. Again these are for normalized values. \n",
    "This would suggest that thresholds in blue states are significantly lower for minorities.\n"
   ]
  },
  {
   "cell_type": "code",
   "execution_count": 186,
   "metadata": {},
   "outputs": [
    {
     "name": "stdout",
     "output_type": "stream",
     "text": [
      "MannwhitneyuResult(statistic=25608488.0, pvalue=8.197822136371379e-306)\n",
      "MannwhitneyuResult(statistic=28100151.0, pvalue=9.724319945381405e-202)\n",
      "MannwhitneyuResult(statistic=28100151.0, pvalue=9.724319945381405e-202)\n",
      "MannwhitneyuResult(statistic=28100151.0, pvalue=9.724319945381405e-202)\n"
     ]
    }
   ],
   "source": [
    "print(stats.mannwhitneyu(np.repeat(blue[blue.subject_race == 'black'].hit_rate_normalized, blue[blue.subject_race == 'black'].nb_search), \n",
    "                         np.repeat(red[red.subject_race == 'black'].hit_rate_normalized, red[red.subject_race == 'black'].nb_search),\n",
    "                         alternative='two-sided'))\n",
    "print(stats.mannwhitneyu(np.repeat(blue[blue.subject_race == 'black'].hit_rate, blue[blue.subject_race == 'black'].nb_search), \n",
    "                         np.repeat(red[red.subject_race == 'black'].hit_rate, red[red.subject_race == 'black'].nb_search),\n",
    "                         alternative='two-sided'))\n",
    "print(stats.mannwhitneyu(np.repeat(blue[blue.subject_race == 'black'].hit_rate, blue[blue.subject_race == 'black'].nb_search), \n",
    "                         np.repeat(red[red.subject_race == 'black'].hit_rate, red[red.subject_race == 'black'].nb_search),\n",
    "                         alternative='two-sided'))\n",
    "print(stats.mannwhitneyu(np.repeat(blue[blue.subject_race == 'black'].hit_rate, blue[blue.subject_race == 'black'].nb_search), \n",
    "                         np.repeat(red[red.subject_race == 'black'].hit_rate, red[red.subject_race == 'black'].nb_search),\n",
    "                         alternative='two-sided'))"
   ]
  },
  {
   "cell_type": "code",
   "execution_count": 187,
   "metadata": {},
   "outputs": [
    {
     "data": {
      "text/plain": [
       "[<matplotlib.lines.Line2D at 0x1de5c398a60>]"
      ]
     },
     "execution_count": 187,
     "metadata": {},
     "output_type": "execute_result"
    },
    {
     "data": {
      "image/png": "[encoded data removed]",
      "text/plain": [
       "<Figure size 504x504 with 3 Axes>"
      ]
     },
     "metadata": {
      "needs_background": "light"
     },
     "output_type": "display_data"
    }
   ],
   "source": [
    "# fig, (ax1,ax2) = plt.subplots(2,1, figsize = (10,10))\n",
    "# sns.distplot(df_blue_pivot.swaplevel(1,0, axis = 1).black.hit_rate, label = 'black', ax = ax1)\n",
    "# sns.distplot(df_blue_pivot.swaplevel(1,0, axis = 1).white.hit_rate, label = 'white', ax=ax1 )\n",
    "# ax1.legend()\n",
    "# sns.distplot(df_blue_pivot.swaplevel(1,0, axis = 1).hispanic.hit_rate, label = 'blue', ax = ax2)\n",
    "# sns.distplot(df_red_pivot.swaplevel(1,0, axis = 1).hispanic.hit_rate, label = 'red', ax=ax2)\n",
    "plot = sns.jointplot(x=full_pivot.loc['blue'].hit_rate.white, y=full_pivot.loc['blue'].hit_rate.black, data=blue,\n",
    "                  kind=\"reg\", truncate=False,\n",
    "                  color=\"m\", height=7)\n",
    "\n",
    "plot.ax_joint.plot([0.15,0.6], [0.1,0.6], 'b-', linewidth = 2)"
   ]
  },
  {
   "cell_type": "code",
   "execution_count": 188,
   "metadata": {},
   "outputs": [
    {
     "data": {
      "image/png": "[encoded data removed]",
      "text/plain": [
       "<Figure size 864x360 with 2 Axes>"
      ]
     },
     "metadata": {
      "needs_background": "light"
     },
     "output_type": "display_data"
    }
   ],
   "source": [
    "fig, (ax1,ax2) = plt.subplots(1,2, figsize = (12,5))\n",
    "ax1.plot(range(10),range(10), color = 'black', lw = 0.4)\n",
    "ax1.set_xlim([0,0.9])  \n",
    "ax1.set_ylim([0,0.9]) \n",
    "g = sns.scatterplot(data = full_pivot.loc['blue'], x = full_pivot.loc['blue'].hit_rate.white, y = full_pivot.loc['blue'].hit_rate.black, hue = 'state', ax =ax1)\n",
    "# h,l = g.get_legend_handles_labels()\n",
    "# ax1.legend(h[0:5],l[0:5])\n",
    "\n",
    "ax2.plot(range(10),range(10), color = 'black', lw = 0.4)\n",
    "ax2.set_xlim([0,0.8]) \n",
    "ax2.set_ylim([0,0.8]) \n",
    "sns.scatterplot(data = full_pivot.loc['red'], x = full_pivot.loc['red'].hit_rate.white, y = full_pivot.loc['red'].hit_rate.hispanic, hue = 'state', ax =ax2)\n",
    "plt.show(g)"
   ]
  },
  {
   "cell_type": "code",
   "execution_count": 189,
   "metadata": {},
   "outputs": [
    {
     "ename": "NameError",
     "evalue": "name 'df_blue_pivot' is not defined",
     "output_type": "error",
     "traceback": [
      "\u001b[1;31m---------------------------------------------------------------------------\u001b[0m",
      "\u001b[1;31mNameError\u001b[0m                                 Traceback (most recent call last)",
      "\u001b[1;32m<ipython-input-189-9d059edc7ff5>\u001b[0m in \u001b[0;36m<module>\u001b[1;34m\u001b[0m\n\u001b[1;32m----> 1\u001b[1;33m \u001b[0mdf_pivot\u001b[0m \u001b[1;33m=\u001b[0m \u001b[0mpd\u001b[0m\u001b[1;33m.\u001b[0m\u001b[0mconcat\u001b[0m\u001b[1;33m(\u001b[0m\u001b[1;33m[\u001b[0m\u001b[0mdf_blue_pivot\u001b[0m\u001b[1;33m,\u001b[0m\u001b[0mdf_red_pivot\u001b[0m\u001b[1;33m]\u001b[0m\u001b[1;33m)\u001b[0m\u001b[1;33m\u001b[0m\u001b[1;33m\u001b[0m\u001b[0m\n\u001b[0m\u001b[0;32m      2\u001b[0m \u001b[0mdf_pivot\u001b[0m\u001b[1;33m.\u001b[0m\u001b[0mhead\u001b[0m\u001b[1;33m(\u001b[0m\u001b[1;33m)\u001b[0m\u001b[1;33m\u001b[0m\u001b[1;33m\u001b[0m\u001b[0m\n",
      "\u001b[1;31mNameError\u001b[0m: name 'df_blue_pivot' is not defined"
     ]
    }
   ],
   "source": [
    "df_pivot = pd.concat([df_blue_pivot,df_red_pivot])\n",
    "df_pivot.head()"
   ]
  },
  {
   "cell_type": "code",
   "execution_count": 190,
   "metadata": {},
   "outputs": [],
   "source": [
    "def get_weights(df, states, races):\n",
    "    df['weights'] = np.zeros(df.shape[0])\n",
    "    for state in states:\n",
    "        for race in races:\n",
    "            df.loc[state,race].weights = df.loc[state,race].nb_search/df.loc[state,race].nb_search.sum()\n",
    "    return df"
   ]
  },
  {
   "cell_type": "code",
   "execution_count": null,
   "metadata": {},
   "outputs": [],
   "source": []
  },
  {
   "cell_type": "code",
   "execution_count": 191,
   "metadata": {},
   "outputs": [],
   "source": [
    "def add_normalized_rates(df):\n",
    "    df_white = df[df.subject_race == 'white'].reset_index(drop = True)\n",
    "    df_black = df[df.subject_race == 'black'].reset_index(drop = True)\n",
    "    df_hispanic = df[df.subject_race == 'hispanic'].reset_index(drop = True)\n",
    "    df_black['hit_rate_normalized'] = (df_black.hit_rate / df_white.hit_rate) #*df_black.weights\n",
    "    df_hispanic['hit_rate_normalized'] = (df_hispanic.hit_rate / df_white.hit_rate)#*df_hispanic.weights\n",
    "    df_black['threshold_normalized'] = (df_black.inferred_threshold / df_white.inferred_threshold)#*df_black.weights\n",
    "    df_hispanic['threshold_normalized'] = (df_hispanic.inferred_threshold / df_white.inferred_threshold)#*df_hispanic.weights\n",
    "    return pd.concat([df_hispanic,df_black])\n"
   ]
  },
  {
   "cell_type": "code",
   "execution_count": 192,
   "metadata": {},
   "outputs": [],
   "source": [
    "def weighted_mean(x):\n",
    "#     print(x)\n",
    "    return np.mean(x)"
   ]
  },
  {
   "cell_type": "code",
   "execution_count": 193,
   "metadata": {},
   "outputs": [],
   "source": [
    "# plot bar graphs by political orientation (blue/red) and by method (hit rate/threshold)\n",
    "def plot_bar(method, data, params):\n",
    "    ylim, ax = params\n",
    "    sns.barplot(x = \"state\", y = method, hue = \"subject_race\", data = data, estimator = np.mean, ax = ax)\n",
    "    ax.set_ylim(ylim)\n",
    "    ax.set_xlim([-0.5,4.5])\n",
    "    ax.axhline(y=1, ls = (1, (10,5)), color = 'black', lw = 0.7)\n",
    "    x = np.arange(-0.5, 2.5, 0.01)\n",
    "    ax.fill_between(x, ylim[0],ylim[1], color = \"#5DADE2\", alpha =0.5)    \n",
    "    x = np.arange(2.5, 5, 0.01)\n",
    "    ax.fill_between(x, ylim[0],ylim[1], color = \"#E74C3C\", alpha =0.5)\n",
    "#     ax.set_xlim(lim)\n",
    "#     ax.set_ylim(lim)"
   ]
  },
  {
   "cell_type": "code",
   "execution_count": 194,
   "metadata": {},
   "outputs": [
    {
     "ename": "ValueError",
     "evalue": "Could not interpret input 'hit_rate_weighted_normalized'",
     "output_type": "error",
     "traceback": [
      "\u001b[1;31m---------------------------------------------------------------------------\u001b[0m",
      "\u001b[1;31mValueError\u001b[0m                                Traceback (most recent call last)",
      "\u001b[1;32m<ipython-input-194-d33adac02907>\u001b[0m in \u001b[0;36m<module>\u001b[1;34m\u001b[0m\n\u001b[0;32m     16\u001b[0m \u001b[1;32mfor\u001b[0m \u001b[0mmethod\u001b[0m \u001b[1;32min\u001b[0m \u001b[0mrange\u001b[0m\u001b[1;33m(\u001b[0m\u001b[1;36m2\u001b[0m\u001b[1;33m)\u001b[0m\u001b[1;33m:\u001b[0m\u001b[1;33m\u001b[0m\u001b[1;33m\u001b[0m\u001b[0m\n\u001b[0;32m     17\u001b[0m     \u001b[0mparams\u001b[0m \u001b[1;33m=\u001b[0m \u001b[1;33m[\u001b[0m\u001b[0mylim\u001b[0m\u001b[1;33m[\u001b[0m\u001b[0mmethod\u001b[0m\u001b[1;33m]\u001b[0m\u001b[1;33m,\u001b[0m\u001b[0maxs\u001b[0m\u001b[1;33m[\u001b[0m\u001b[0mmethod\u001b[0m\u001b[1;33m]\u001b[0m\u001b[1;33m]\u001b[0m\u001b[1;33m\u001b[0m\u001b[1;33m\u001b[0m\u001b[0m\n\u001b[1;32m---> 18\u001b[1;33m     \u001b[0mplot_bar\u001b[0m\u001b[1;33m(\u001b[0m\u001b[0mmethods\u001b[0m\u001b[1;33m[\u001b[0m\u001b[0mmethod\u001b[0m\u001b[1;33m]\u001b[0m\u001b[1;33m,\u001b[0m\u001b[0mdata\u001b[0m\u001b[1;33m,\u001b[0m \u001b[0mparams\u001b[0m\u001b[1;33m)\u001b[0m\u001b[1;33m\u001b[0m\u001b[1;33m\u001b[0m\u001b[0m\n\u001b[0m\u001b[0;32m     19\u001b[0m \u001b[0mfull\u001b[0m\u001b[1;33m.\u001b[0m\u001b[0mhead\u001b[0m\u001b[1;33m(\u001b[0m\u001b[1;33m)\u001b[0m\u001b[1;33m\u001b[0m\u001b[1;33m\u001b[0m\u001b[0m\n",
      "\u001b[1;32m<ipython-input-193-bc39f9983273>\u001b[0m in \u001b[0;36mplot_bar\u001b[1;34m(method, data, params)\u001b[0m\n\u001b[0;32m      2\u001b[0m \u001b[1;32mdef\u001b[0m \u001b[0mplot_bar\u001b[0m\u001b[1;33m(\u001b[0m\u001b[0mmethod\u001b[0m\u001b[1;33m,\u001b[0m \u001b[0mdata\u001b[0m\u001b[1;33m,\u001b[0m \u001b[0mparams\u001b[0m\u001b[1;33m)\u001b[0m\u001b[1;33m:\u001b[0m\u001b[1;33m\u001b[0m\u001b[1;33m\u001b[0m\u001b[0m\n\u001b[0;32m      3\u001b[0m     \u001b[0mylim\u001b[0m\u001b[1;33m,\u001b[0m \u001b[0max\u001b[0m \u001b[1;33m=\u001b[0m \u001b[0mparams\u001b[0m\u001b[1;33m\u001b[0m\u001b[1;33m\u001b[0m\u001b[0m\n\u001b[1;32m----> 4\u001b[1;33m     \u001b[0msns\u001b[0m\u001b[1;33m.\u001b[0m\u001b[0mbarplot\u001b[0m\u001b[1;33m(\u001b[0m\u001b[0mx\u001b[0m \u001b[1;33m=\u001b[0m \u001b[1;34m\"state\"\u001b[0m\u001b[1;33m,\u001b[0m \u001b[0my\u001b[0m \u001b[1;33m=\u001b[0m \u001b[0mmethod\u001b[0m\u001b[1;33m,\u001b[0m \u001b[0mhue\u001b[0m \u001b[1;33m=\u001b[0m \u001b[1;34m\"subject_race\"\u001b[0m\u001b[1;33m,\u001b[0m \u001b[0mdata\u001b[0m \u001b[1;33m=\u001b[0m \u001b[0mdata\u001b[0m\u001b[1;33m,\u001b[0m \u001b[0mestimator\u001b[0m \u001b[1;33m=\u001b[0m \u001b[0mnp\u001b[0m\u001b[1;33m.\u001b[0m\u001b[0mmean\u001b[0m\u001b[1;33m,\u001b[0m \u001b[0max\u001b[0m \u001b[1;33m=\u001b[0m \u001b[0max\u001b[0m\u001b[1;33m)\u001b[0m\u001b[1;33m\u001b[0m\u001b[1;33m\u001b[0m\u001b[0m\n\u001b[0m\u001b[0;32m      5\u001b[0m     \u001b[0max\u001b[0m\u001b[1;33m.\u001b[0m\u001b[0mset_ylim\u001b[0m\u001b[1;33m(\u001b[0m\u001b[0mylim\u001b[0m\u001b[1;33m)\u001b[0m\u001b[1;33m\u001b[0m\u001b[1;33m\u001b[0m\u001b[0m\n\u001b[0;32m      6\u001b[0m     \u001b[0max\u001b[0m\u001b[1;33m.\u001b[0m\u001b[0mset_xlim\u001b[0m\u001b[1;33m(\u001b[0m\u001b[1;33m[\u001b[0m\u001b[1;33m-\u001b[0m\u001b[1;36m0.5\u001b[0m\u001b[1;33m,\u001b[0m\u001b[1;36m4.5\u001b[0m\u001b[1;33m]\u001b[0m\u001b[1;33m)\u001b[0m\u001b[1;33m\u001b[0m\u001b[1;33m\u001b[0m\u001b[0m\n",
      "\u001b[1;32m~\\anaconda3\\envs\\ada\\lib\\site-packages\\seaborn\\_decorators.py\u001b[0m in \u001b[0;36minner_f\u001b[1;34m(*args, **kwargs)\u001b[0m\n\u001b[0;32m     44\u001b[0m             )\n\u001b[0;32m     45\u001b[0m         \u001b[0mkwargs\u001b[0m\u001b[1;33m.\u001b[0m\u001b[0mupdate\u001b[0m\u001b[1;33m(\u001b[0m\u001b[1;33m{\u001b[0m\u001b[0mk\u001b[0m\u001b[1;33m:\u001b[0m \u001b[0marg\u001b[0m \u001b[1;32mfor\u001b[0m \u001b[0mk\u001b[0m\u001b[1;33m,\u001b[0m \u001b[0marg\u001b[0m \u001b[1;32min\u001b[0m \u001b[0mzip\u001b[0m\u001b[1;33m(\u001b[0m\u001b[0msig\u001b[0m\u001b[1;33m.\u001b[0m\u001b[0mparameters\u001b[0m\u001b[1;33m,\u001b[0m \u001b[0margs\u001b[0m\u001b[1;33m)\u001b[0m\u001b[1;33m}\u001b[0m\u001b[1;33m)\u001b[0m\u001b[1;33m\u001b[0m\u001b[1;33m\u001b[0m\u001b[0m\n\u001b[1;32m---> 46\u001b[1;33m         \u001b[1;32mreturn\u001b[0m \u001b[0mf\u001b[0m\u001b[1;33m(\u001b[0m\u001b[1;33m**\u001b[0m\u001b[0mkwargs\u001b[0m\u001b[1;33m)\u001b[0m\u001b[1;33m\u001b[0m\u001b[1;33m\u001b[0m\u001b[0m\n\u001b[0m\u001b[0;32m     47\u001b[0m     \u001b[1;32mreturn\u001b[0m \u001b[0minner_f\u001b[0m\u001b[1;33m\u001b[0m\u001b[1;33m\u001b[0m\u001b[0m\n\u001b[0;32m     48\u001b[0m \u001b[1;33m\u001b[0m\u001b[0m\n",
      "\u001b[1;32m~\\anaconda3\\envs\\ada\\lib\\site-packages\\seaborn\\categorical.py\u001b[0m in \u001b[0;36mbarplot\u001b[1;34m(x, y, hue, data, order, hue_order, estimator, ci, n_boot, units, seed, orient, color, palette, saturation, errcolor, errwidth, capsize, dodge, ax, **kwargs)\u001b[0m\n\u001b[0;32m   3167\u001b[0m ):\n\u001b[0;32m   3168\u001b[0m \u001b[1;33m\u001b[0m\u001b[0m\n\u001b[1;32m-> 3169\u001b[1;33m     plotter = _BarPlotter(x, y, hue, data, order, hue_order,\n\u001b[0m\u001b[0;32m   3170\u001b[0m                           \u001b[0mestimator\u001b[0m\u001b[1;33m,\u001b[0m \u001b[0mci\u001b[0m\u001b[1;33m,\u001b[0m \u001b[0mn_boot\u001b[0m\u001b[1;33m,\u001b[0m \u001b[0munits\u001b[0m\u001b[1;33m,\u001b[0m \u001b[0mseed\u001b[0m\u001b[1;33m,\u001b[0m\u001b[1;33m\u001b[0m\u001b[1;33m\u001b[0m\u001b[0m\n\u001b[0;32m   3171\u001b[0m                           \u001b[0morient\u001b[0m\u001b[1;33m,\u001b[0m \u001b[0mcolor\u001b[0m\u001b[1;33m,\u001b[0m \u001b[0mpalette\u001b[0m\u001b[1;33m,\u001b[0m \u001b[0msaturation\u001b[0m\u001b[1;33m,\u001b[0m\u001b[1;33m\u001b[0m\u001b[1;33m\u001b[0m\u001b[0m\n",
      "\u001b[1;32m~\\anaconda3\\envs\\ada\\lib\\site-packages\\seaborn\\categorical.py\u001b[0m in \u001b[0;36m__init__\u001b[1;34m(self, x, y, hue, data, order, hue_order, estimator, ci, n_boot, units, seed, orient, color, palette, saturation, errcolor, errwidth, capsize, dodge)\u001b[0m\n\u001b[0;32m   1582\u001b[0m                  errwidth, capsize, dodge):\n\u001b[0;32m   1583\u001b[0m         \u001b[1;34m\"\"\"Initialize the plotter.\"\"\"\u001b[0m\u001b[1;33m\u001b[0m\u001b[1;33m\u001b[0m\u001b[0m\n\u001b[1;32m-> 1584\u001b[1;33m         self.establish_variables(x, y, hue, data, orient,\n\u001b[0m\u001b[0;32m   1585\u001b[0m                                  order, hue_order, units)\n\u001b[0;32m   1586\u001b[0m         \u001b[0mself\u001b[0m\u001b[1;33m.\u001b[0m\u001b[0mestablish_colors\u001b[0m\u001b[1;33m(\u001b[0m\u001b[0mcolor\u001b[0m\u001b[1;33m,\u001b[0m \u001b[0mpalette\u001b[0m\u001b[1;33m,\u001b[0m \u001b[0msaturation\u001b[0m\u001b[1;33m)\u001b[0m\u001b[1;33m\u001b[0m\u001b[1;33m\u001b[0m\u001b[0m\n",
      "\u001b[1;32m~\\anaconda3\\envs\\ada\\lib\\site-packages\\seaborn\\categorical.py\u001b[0m in \u001b[0;36mestablish_variables\u001b[1;34m(self, x, y, hue, data, orient, order, hue_order, units)\u001b[0m\n\u001b[0;32m    151\u001b[0m                 \u001b[1;32mif\u001b[0m \u001b[0misinstance\u001b[0m\u001b[1;33m(\u001b[0m\u001b[0mvar\u001b[0m\u001b[1;33m,\u001b[0m \u001b[0mstr\u001b[0m\u001b[1;33m)\u001b[0m\u001b[1;33m:\u001b[0m\u001b[1;33m\u001b[0m\u001b[1;33m\u001b[0m\u001b[0m\n\u001b[0;32m    152\u001b[0m                     \u001b[0merr\u001b[0m \u001b[1;33m=\u001b[0m \u001b[1;34m\"Could not interpret input '{}'\"\u001b[0m\u001b[1;33m.\u001b[0m\u001b[0mformat\u001b[0m\u001b[1;33m(\u001b[0m\u001b[0mvar\u001b[0m\u001b[1;33m)\u001b[0m\u001b[1;33m\u001b[0m\u001b[1;33m\u001b[0m\u001b[0m\n\u001b[1;32m--> 153\u001b[1;33m                     \u001b[1;32mraise\u001b[0m \u001b[0mValueError\u001b[0m\u001b[1;33m(\u001b[0m\u001b[0merr\u001b[0m\u001b[1;33m)\u001b[0m\u001b[1;33m\u001b[0m\u001b[1;33m\u001b[0m\u001b[0m\n\u001b[0m\u001b[0;32m    154\u001b[0m \u001b[1;33m\u001b[0m\u001b[0m\n\u001b[0;32m    155\u001b[0m             \u001b[1;31m# Figure out the plotting orientation\u001b[0m\u001b[1;33m\u001b[0m\u001b[1;33m\u001b[0m\u001b[1;33m\u001b[0m\u001b[0m\n",
      "\u001b[1;31mValueError\u001b[0m: Could not interpret input 'hit_rate_weighted_normalized'"
     ]
    },
    {
     "data": {
      "image/png": "[encoded data removed]",
      "text/plain": [
       "<Figure size 864x432 with 2 Axes>"
      ]
     },
     "metadata": {
      "needs_background": "light"
     },
     "output_type": "display_data"
    }
   ],
   "source": [
    "# blue.groupby('state').sum()\n",
    "# data.groupby(['state','subject_race']).sum()\n",
    "# blue.set_index(['state','subject_race']).loc['CT','white']\n",
    "# blue\n",
    "# full = pd.concat([blue,red])\n",
    "# full_normalized = add_normalized_rates(full)\n",
    "races = full.subject_race.unique()\n",
    "states = full.state.unique()\n",
    "\n",
    "temp =  get_weights(full.set_index(['state','subject_race']), states, races) \n",
    "data = add_normalized_rates(temp.reset_index())\n",
    "data = add_normalized_rates(full)\n",
    "methods = [\"hit_rate_weighted_normalized\", \"threshold_weighted_normalized\"]\n",
    "ylim = [[0,1.25], [0,1.05]]\n",
    "fig, axs = plt.subplots(1,2,figsize=(12,6))\n",
    "for method in range(2):\n",
    "    params = [ylim[method],axs[method]]\n",
    "    plot_bar(methods[method],data, params)\n",
    "full.head()"
   ]
  },
  {
   "cell_type": "code",
   "execution_count": null,
   "metadata": {},
   "outputs": [],
   "source": [
    "full = pd.concat([blue,red])\n",
    "# full_normalized = add_normalized_rates(full)\n",
    "races = full.subject_race.unique()\n",
    "states = full.state.unique()\n",
    "\n",
    "# temp =  get_weights(full.set_index(['state','subject_race']), states, races) \n",
    "# data = add_normalized_rates(temp.reset_index())\n",
    "data = add_normalized_rates(full)\n",
    "methods = [\"hit_rate_normalized\", \"threshold_normalized\"]\n",
    "ylim = [[0,1.25], [0,1.05]]\n",
    "fig, axs = plt.subplots(1,2,figsize=(12,6))\n",
    "for method in range(2):\n",
    "    params = [ylim[method],axs[method]]\n",
    "    plot_bar(methods[method],data, params)\n"
   ]
  },
  {
   "cell_type": "code",
   "execution_count": null,
   "metadata": {},
   "outputs": [],
   "source": []
  },
  {
   "cell_type": "code",
   "execution_count": 213,
   "metadata": {},
   "outputs": [],
   "source": [
    "tx_raw = df.loc[df[\"state\"] == \"TX\"]\n",
    "counties['party'] = np.where(counties[\"per_dem\"] > counties[\"per_gop\"], \"blue\", \"red\")\n",
    "counties = counties.loc[counties[\"state_abbr\"] == \"TX\"]\n",
    "tx = tx_raw.drop(['state','party'],axis=1)\n",
    "tx = pd.merge(left=tx, right=counties, left_on='subgeography', right_on='county_name')\n",
    "tx = tx.drop(['votes_dem','votes_gop','state_abbr','county_name','combined_fips','Unnamed: 0'],axis=1)"
   ]
  },
  {
   "cell_type": "code",
   "execution_count": 201,
   "metadata": {},
   "outputs": [
    {
     "data": {
      "text/plain": [
       "party\n",
       "blue     4153.925524\n",
       "red     23681.255198\n",
       "Name: nb_search, dtype: float64"
      ]
     },
     "execution_count": 201,
     "metadata": {},
     "output_type": "execute_result"
    }
   ],
   "source": [
    "tx.groupby('party').nb_search.sum()"
   ]
  },
  {
   "cell_type": "code",
   "execution_count": 202,
   "metadata": {},
   "outputs": [
    {
     "data": {
      "text/plain": [
       "<AxesSubplot:xlabel='nb_search', ylabel='Density'>"
      ]
     },
     "execution_count": 202,
     "metadata": {},
     "output_type": "execute_result"
    },
    {
     "data": {
      "image/png": "[encoded data removed]",
      "text/plain": [
       "<Figure size 432x288 with 1 Axes>"
      ]
     },
     "metadata": {
      "needs_background": "light"
     },
     "output_type": "display_data"
    }
   ],
   "source": [
    "g = sns.distplot(tx[tx.party == 'blue'].nb_search, label = 'blue states')\n",
    "sns.distplot(tx[tx.party == 'red'].nb_search, label = 'red states', ax = g)"
   ]
  },
  {
   "cell_type": "markdown",
   "metadata": {},
   "source": [
    "We can see that there are more blue counties with high number of searches and that again most red counties have small number of searches.\n",
    "However, given that there are a lot more red counties than blue counties there are more searches for red counties. We believe the this is still good enough to perform analysis on."
   ]
  },
  {
   "cell_type": "code",
   "execution_count": 203,
   "metadata": {},
   "outputs": [
    {
     "data": {
      "text/plain": [
       "<AxesSubplot:xlabel='subject_race', ylabel='inferred_threshold'>"
      ]
     },
     "execution_count": 203,
     "metadata": {},
     "output_type": "execute_result"
    },
    {
     "data": {
      "image/png": "[encoded data removed]",
      "text/plain": [
       "<Figure size 720x360 with 2 Axes>"
      ]
     },
     "metadata": {
      "needs_background": "light"
     },
     "output_type": "display_data"
    }
   ],
   "source": [
    "fig, ax = plt.subplots(1,2, figsize = (10,5))\n",
    "sns.boxplot(data=tx, y=\"hit_rate\", x=\"subject_race\", hue = 'party', hue_order = ['blue', 'red'], ax = ax[0])\n",
    "sns.boxplot(data=tx, y=\"inferred_threshold\", x=\"subject_race\", hue = 'party', hue_order = ['blue', 'red'], ax = ax[1])"
   ]
  },
  {
   "cell_type": "markdown",
   "metadata": {},
   "source": [
    "Blue hit rates are again lower than red hit rates. However this does not give us any indication on the bias."
   ]
  },
  {
   "cell_type": "code",
   "execution_count": 204,
   "metadata": {},
   "outputs": [
    {
     "data": {
      "text/plain": [
       "<seaborn.axisgrid.FacetGrid at 0x1de62f458b0>"
      ]
     },
     "execution_count": 204,
     "metadata": {},
     "output_type": "execute_result"
    },
    {
     "data": {
      "image/png": "[encoded data removed]",
      "text/plain": [
       "<Figure size 797.625x360 with 2 Axes>"
      ]
     },
     "metadata": {
      "needs_background": "light"
     },
     "output_type": "display_data"
    },
    {
     "data": {
      "image/png": "[encoded data removed]",
      "text/plain": [
       "<Figure size 797.625x360 with 2 Axes>"
      ]
     },
     "metadata": {
      "needs_background": "light"
     },
     "output_type": "display_data"
    }
   ],
   "source": [
    "sns.displot(data=tx, x=\"hit_rate\", hue=\"subject_race\", col=\"party\", kde = True)\n",
    "sns.displot(data=tx, x=\"inferred_threshold\", hue=\"subject_race\", col=\"party\", kde=True)"
   ]
  },
  {
   "cell_type": "code",
   "execution_count": 205,
   "metadata": {},
   "outputs": [
    {
     "name": "stdout",
     "output_type": "stream",
     "text": [
      "(0.064750568368659, 0.002880813936626427)\n",
      "(0.03765083287789758, 0.3584664413132878)\n",
      "(0.1007900857526729, 0.5778193798896908)\n",
      "(0.13244668732730136, 0.1885279279732509)\n",
      "(0.065747278715727, 0.17403441585970786)\n",
      "(0.07866208425108001, 0.0414062467744477)\n"
     ]
    }
   ],
   "source": [
    "print(diagnostic.kstest_normal(tx.hit_rate, dist = 'norm'))\n",
    "print(diagnostic.kstest_normal(tx.inferred_threshold, dist = 'norm'))\n",
    "print(diagnostic.kstest_normal(full_pivot.loc['blue'].hit_rate.white, dist = 'norm'))\n",
    "print(diagnostic.kstest_normal(full_pivot.loc['blue'].inferred_threshold.hispanic, dist = 'norm'))\n",
    "print(diagnostic.kstest_normal(full_pivot.loc['red'].hit_rate.white, dist = 'norm'))\n",
    "print(diagnostic.kstest_normal(full_pivot.loc['red'].inferred_threshold.hispanic, dist = 'norm'))"
   ]
  },
  {
   "cell_type": "code",
   "execution_count": 206,
   "metadata": {},
   "outputs": [
    {
     "name": "stdout",
     "output_type": "stream",
     "text": [
      "SpearmanrResult(correlation=-0.012236141875115514, pvalue=0.8223935251011338)\n",
      "SpearmanrResult(correlation=-0.13054714476249735, pvalue=0.016170215970718948)\n"
     ]
    }
   ],
   "source": [
    "print(stats.spearmanr(tx['nb_search'],tx['hit_rate']))\n",
    "print(stats.spearmanr(tx['nb_search'],tx['inferred_threshold']))"
   ]
  },
  {
   "cell_type": "code",
   "execution_count": 207,
   "metadata": {},
   "outputs": [
    {
     "name": "stdout",
     "output_type": "stream",
     "text": [
      "SpearmanrResult(correlation=0.045208524370740265, pvalue=0.634449800186034)\n",
      "SpearmanrResult(correlation=-0.18638132942976915, pvalue=0.04808827366712917)\n",
      "SpearmanrResult(correlation=-0.07690964136003728, pvalue=0.4181294387137159)\n",
      "SpearmanrResult(correlation=-0.20668374476013046, pvalue=0.028061653207698344)\n",
      "SpearmanrResult(correlation=-0.07280938687176161, pvalue=0.44344618296034977)\n",
      "SpearmanrResult(correlation=-0.25533135937188106, pvalue=0.0063444404542834)\n"
     ]
    }
   ],
   "source": [
    "print(stats.spearmanr(tx[tx.subject_race == 'hispanic']['nb_search'],tx[tx.subject_race == 'hispanic']['hit_rate']))\n",
    "print(stats.spearmanr(tx[tx.subject_race == 'hispanic']['nb_search'],tx[tx.subject_race == 'hispanic']['inferred_threshold']))\n",
    "print(stats.spearmanr(tx[tx.subject_race == 'white']['nb_search'],tx[tx.subject_race == 'white']['hit_rate']))\n",
    "print(stats.spearmanr(tx[tx.subject_race == 'white']['nb_search'],tx[tx.subject_race == 'white']['inferred_threshold']))\n",
    "print(stats.spearmanr(tx[tx.subject_race == 'black']['nb_search'],tx[tx.subject_race == 'black']['hit_rate']))\n",
    "print(stats.spearmanr(tx[tx.subject_race == 'black']['nb_search'],tx[tx.subject_race == 'black']['inferred_threshold']))"
   ]
  },
  {
   "cell_type": "code",
   "execution_count": null,
   "metadata": {},
   "outputs": [],
   "source": []
  },
  {
   "cell_type": "code",
   "execution_count": 208,
   "metadata": {},
   "outputs": [
    {
     "data": {
      "text/html": [
       "<div>\n",
       "<style scoped>\n",
       "    .dataframe tbody tr th:only-of-type {\n",
       "        vertical-align: middle;\n",
       "    }\n",
       "\n",
       "    .dataframe tbody tr th {\n",
       "        vertical-align: top;\n",
       "    }\n",
       "\n",
       "    .dataframe thead tr th {\n",
       "        text-align: left;\n",
       "    }\n",
       "\n",
       "    .dataframe thead tr:last-of-type th {\n",
       "        text-align: right;\n",
       "    }\n",
       "</style>\n",
       "<table border=\"1\" class=\"dataframe\">\n",
       "  <thead>\n",
       "    <tr>\n",
       "      <th></th>\n",
       "      <th></th>\n",
       "      <th colspan=\"3\" halign=\"left\">search_rate</th>\n",
       "      <th colspan=\"3\" halign=\"left\">stop_rate</th>\n",
       "      <th colspan=\"3\" halign=\"left\">hit_rate</th>\n",
       "      <th>inferred_threshold</th>\n",
       "      <th>...</th>\n",
       "      <th>per_dem</th>\n",
       "      <th colspan=\"3\" halign=\"left\">per_gop</th>\n",
       "      <th colspan=\"3\" halign=\"left\">diff</th>\n",
       "      <th colspan=\"3\" halign=\"left\">per_point_diff</th>\n",
       "    </tr>\n",
       "    <tr>\n",
       "      <th></th>\n",
       "      <th>subject_race</th>\n",
       "      <th>black</th>\n",
       "      <th>hispanic</th>\n",
       "      <th>white</th>\n",
       "      <th>black</th>\n",
       "      <th>hispanic</th>\n",
       "      <th>white</th>\n",
       "      <th>black</th>\n",
       "      <th>hispanic</th>\n",
       "      <th>white</th>\n",
       "      <th>black</th>\n",
       "      <th>...</th>\n",
       "      <th>white</th>\n",
       "      <th>black</th>\n",
       "      <th>hispanic</th>\n",
       "      <th>white</th>\n",
       "      <th>black</th>\n",
       "      <th>hispanic</th>\n",
       "      <th>white</th>\n",
       "      <th>black</th>\n",
       "      <th>hispanic</th>\n",
       "      <th>white</th>\n",
       "    </tr>\n",
       "    <tr>\n",
       "      <th>party</th>\n",
       "      <th>subgeography</th>\n",
       "      <th></th>\n",
       "      <th></th>\n",
       "      <th></th>\n",
       "      <th></th>\n",
       "      <th></th>\n",
       "      <th></th>\n",
       "      <th></th>\n",
       "      <th></th>\n",
       "      <th></th>\n",
       "      <th></th>\n",
       "      <th></th>\n",
       "      <th></th>\n",
       "      <th></th>\n",
       "      <th></th>\n",
       "      <th></th>\n",
       "      <th></th>\n",
       "      <th></th>\n",
       "      <th></th>\n",
       "      <th></th>\n",
       "      <th></th>\n",
       "      <th></th>\n",
       "    </tr>\n",
       "  </thead>\n",
       "  <tbody>\n",
       "    <tr>\n",
       "      <th rowspan=\"5\" valign=\"top\">blue</th>\n",
       "      <th>Bexar County</th>\n",
       "      <td>0.021990</td>\n",
       "      <td>0.024835</td>\n",
       "      <td>0.013096</td>\n",
       "      <td>0.06723</td>\n",
       "      <td>0.069734</td>\n",
       "      <td>0.091078</td>\n",
       "      <td>0.402878</td>\n",
       "      <td>0.370023</td>\n",
       "      <td>0.410367</td>\n",
       "      <td>0.331674</td>\n",
       "      <td>...</td>\n",
       "      <td>0.544659</td>\n",
       "      <td>0.409804</td>\n",
       "      <td>0.409804</td>\n",
       "      <td>0.409804</td>\n",
       "      <td>79,030</td>\n",
       "      <td>79,030</td>\n",
       "      <td>79,030</td>\n",
       "      <td>13.49%</td>\n",
       "      <td>13.49%</td>\n",
       "      <td>13.49%</td>\n",
       "    </tr>\n",
       "    <tr>\n",
       "      <th>Culberson County</th>\n",
       "      <td>0.017133</td>\n",
       "      <td>0.015029</td>\n",
       "      <td>0.008045</td>\n",
       "      <td>0.06723</td>\n",
       "      <td>0.069734</td>\n",
       "      <td>0.091078</td>\n",
       "      <td>0.263158</td>\n",
       "      <td>0.119910</td>\n",
       "      <td>0.217054</td>\n",
       "      <td>0.182624</td>\n",
       "      <td>...</td>\n",
       "      <td>0.595801</td>\n",
       "      <td>0.367454</td>\n",
       "      <td>0.367454</td>\n",
       "      <td>0.367454</td>\n",
       "      <td>174</td>\n",
       "      <td>174</td>\n",
       "      <td>174</td>\n",
       "      <td>22.83%</td>\n",
       "      <td>22.83%</td>\n",
       "      <td>22.83%</td>\n",
       "    </tr>\n",
       "    <tr>\n",
       "      <th>Dallas County</th>\n",
       "      <td>0.021643</td>\n",
       "      <td>0.017937</td>\n",
       "      <td>0.012143</td>\n",
       "      <td>0.06723</td>\n",
       "      <td>0.069734</td>\n",
       "      <td>0.091078</td>\n",
       "      <td>0.392606</td>\n",
       "      <td>0.452096</td>\n",
       "      <td>0.474110</td>\n",
       "      <td>0.323425</td>\n",
       "      <td>...</td>\n",
       "      <td>0.611264</td>\n",
       "      <td>0.348851</td>\n",
       "      <td>0.348851</td>\n",
       "      <td>0.348851</td>\n",
       "      <td>196,980</td>\n",
       "      <td>196,980</td>\n",
       "      <td>196,980</td>\n",
       "      <td>26.24%</td>\n",
       "      <td>26.24%</td>\n",
       "      <td>26.24%</td>\n",
       "    </tr>\n",
       "    <tr>\n",
       "      <th>El Paso County</th>\n",
       "      <td>0.030395</td>\n",
       "      <td>0.018578</td>\n",
       "      <td>0.015450</td>\n",
       "      <td>0.06723</td>\n",
       "      <td>0.069734</td>\n",
       "      <td>0.091078</td>\n",
       "      <td>0.406897</td>\n",
       "      <td>0.364799</td>\n",
       "      <td>0.476895</td>\n",
       "      <td>0.278581</td>\n",
       "      <td>...</td>\n",
       "      <td>0.691392</td>\n",
       "      <td>0.259277</td>\n",
       "      <td>0.259277</td>\n",
       "      <td>0.259277</td>\n",
       "      <td>90,942</td>\n",
       "      <td>90,942</td>\n",
       "      <td>90,942</td>\n",
       "      <td>43.21%</td>\n",
       "      <td>43.21%</td>\n",
       "      <td>43.21%</td>\n",
       "    </tr>\n",
       "    <tr>\n",
       "      <th>Fort Bend County</th>\n",
       "      <td>0.011105</td>\n",
       "      <td>0.011390</td>\n",
       "      <td>0.006566</td>\n",
       "      <td>0.06723</td>\n",
       "      <td>0.069734</td>\n",
       "      <td>0.091078</td>\n",
       "      <td>0.407249</td>\n",
       "      <td>0.352365</td>\n",
       "      <td>0.382831</td>\n",
       "      <td>0.327966</td>\n",
       "      <td>...</td>\n",
       "      <td>0.516483</td>\n",
       "      <td>0.450180</td>\n",
       "      <td>0.450180</td>\n",
       "      <td>0.450180</td>\n",
       "      <td>17,263</td>\n",
       "      <td>17,263</td>\n",
       "      <td>17,263</td>\n",
       "      <td>6.63%</td>\n",
       "      <td>6.63%</td>\n",
       "      <td>6.63%</td>\n",
       "    </tr>\n",
       "    <tr>\n",
       "      <th>...</th>\n",
       "      <th>...</th>\n",
       "      <td>...</td>\n",
       "      <td>...</td>\n",
       "      <td>...</td>\n",
       "      <td>...</td>\n",
       "      <td>...</td>\n",
       "      <td>...</td>\n",
       "      <td>...</td>\n",
       "      <td>...</td>\n",
       "      <td>...</td>\n",
       "      <td>...</td>\n",
       "      <td>...</td>\n",
       "      <td>...</td>\n",
       "      <td>...</td>\n",
       "      <td>...</td>\n",
       "      <td>...</td>\n",
       "      <td>...</td>\n",
       "      <td>...</td>\n",
       "      <td>...</td>\n",
       "      <td>...</td>\n",
       "      <td>...</td>\n",
       "      <td>...</td>\n",
       "    </tr>\n",
       "    <tr>\n",
       "      <th rowspan=\"5\" valign=\"top\">red</th>\n",
       "      <th>Wharton County</th>\n",
       "      <td>0.027572</td>\n",
       "      <td>0.042115</td>\n",
       "      <td>0.010523</td>\n",
       "      <td>0.06723</td>\n",
       "      <td>0.069734</td>\n",
       "      <td>0.091078</td>\n",
       "      <td>0.548780</td>\n",
       "      <td>0.266531</td>\n",
       "      <td>0.537143</td>\n",
       "      <td>0.320722</td>\n",
       "      <td>...</td>\n",
       "      <td>0.288162</td>\n",
       "      <td>0.690080</td>\n",
       "      <td>0.690080</td>\n",
       "      <td>0.690080</td>\n",
       "      <td>5,911</td>\n",
       "      <td>5,911</td>\n",
       "      <td>5,911</td>\n",
       "      <td>40.19%</td>\n",
       "      <td>40.19%</td>\n",
       "      <td>40.19%</td>\n",
       "    </tr>\n",
       "    <tr>\n",
       "      <th>Wichita County</th>\n",
       "      <td>0.057150</td>\n",
       "      <td>0.043787</td>\n",
       "      <td>0.021745</td>\n",
       "      <td>0.06723</td>\n",
       "      <td>0.069734</td>\n",
       "      <td>0.091078</td>\n",
       "      <td>0.606695</td>\n",
       "      <td>0.439252</td>\n",
       "      <td>0.563006</td>\n",
       "      <td>0.310999</td>\n",
       "      <td>...</td>\n",
       "      <td>0.230844</td>\n",
       "      <td>0.728220</td>\n",
       "      <td>0.728220</td>\n",
       "      <td>0.728220</td>\n",
       "      <td>18,857</td>\n",
       "      <td>18,857</td>\n",
       "      <td>18,857</td>\n",
       "      <td>49.74%</td>\n",
       "      <td>49.74%</td>\n",
       "      <td>49.74%</td>\n",
       "    </tr>\n",
       "    <tr>\n",
       "      <th>Wilbarger County</th>\n",
       "      <td>0.023802</td>\n",
       "      <td>0.014195</td>\n",
       "      <td>0.006876</td>\n",
       "      <td>0.06723</td>\n",
       "      <td>0.069734</td>\n",
       "      <td>0.091078</td>\n",
       "      <td>0.533333</td>\n",
       "      <td>0.327273</td>\n",
       "      <td>0.551546</td>\n",
       "      <td>0.323033</td>\n",
       "      <td>...</td>\n",
       "      <td>0.196781</td>\n",
       "      <td>0.772007</td>\n",
       "      <td>0.772007</td>\n",
       "      <td>0.772007</td>\n",
       "      <td>2,359</td>\n",
       "      <td>2,359</td>\n",
       "      <td>2,359</td>\n",
       "      <td>57.52%</td>\n",
       "      <td>57.52%</td>\n",
       "      <td>57.52%</td>\n",
       "    </tr>\n",
       "    <tr>\n",
       "      <th>Williamson County</th>\n",
       "      <td>0.025413</td>\n",
       "      <td>0.024083</td>\n",
       "      <td>0.013453</td>\n",
       "      <td>0.06723</td>\n",
       "      <td>0.069734</td>\n",
       "      <td>0.091078</td>\n",
       "      <td>0.494577</td>\n",
       "      <td>0.322340</td>\n",
       "      <td>0.396644</td>\n",
       "      <td>0.305252</td>\n",
       "      <td>...</td>\n",
       "      <td>0.420159</td>\n",
       "      <td>0.518786</td>\n",
       "      <td>0.518786</td>\n",
       "      <td>0.518786</td>\n",
       "      <td>19,777</td>\n",
       "      <td>19,777</td>\n",
       "      <td>19,777</td>\n",
       "      <td>9.86%</td>\n",
       "      <td>9.86%</td>\n",
       "      <td>9.86%</td>\n",
       "    </tr>\n",
       "    <tr>\n",
       "      <th>Wise County</th>\n",
       "      <td>0.043500</td>\n",
       "      <td>0.026597</td>\n",
       "      <td>0.015098</td>\n",
       "      <td>0.06723</td>\n",
       "      <td>0.069734</td>\n",
       "      <td>0.091078</td>\n",
       "      <td>0.489914</td>\n",
       "      <td>0.412892</td>\n",
       "      <td>0.451655</td>\n",
       "      <td>0.277676</td>\n",
       "      <td>...</td>\n",
       "      <td>0.138356</td>\n",
       "      <td>0.837557</td>\n",
       "      <td>0.837557</td>\n",
       "      <td>0.837557</td>\n",
       "      <td>17,243</td>\n",
       "      <td>17,243</td>\n",
       "      <td>17,243</td>\n",
       "      <td>69.92%</td>\n",
       "      <td>69.92%</td>\n",
       "      <td>69.92%</td>\n",
       "    </tr>\n",
       "  </tbody>\n",
       "</table>\n",
       "<p>113 rows × 36 columns</p>\n",
       "</div>"
      ],
      "text/plain": [
       "                        search_rate                     stop_rate            \\\n",
       "subject_race                  black  hispanic     white     black  hispanic   \n",
       "party subgeography                                                            \n",
       "blue  Bexar County         0.021990  0.024835  0.013096   0.06723  0.069734   \n",
       "      Culberson County     0.017133  0.015029  0.008045   0.06723  0.069734   \n",
       "      Dallas County        0.021643  0.017937  0.012143   0.06723  0.069734   \n",
       "      El Paso County       0.030395  0.018578  0.015450   0.06723  0.069734   \n",
       "      Fort Bend County     0.011105  0.011390  0.006566   0.06723  0.069734   \n",
       "...                             ...       ...       ...       ...       ...   \n",
       "red   Wharton County       0.027572  0.042115  0.010523   0.06723  0.069734   \n",
       "      Wichita County       0.057150  0.043787  0.021745   0.06723  0.069734   \n",
       "      Wilbarger County     0.023802  0.014195  0.006876   0.06723  0.069734   \n",
       "      Williamson County    0.025413  0.024083  0.013453   0.06723  0.069734   \n",
       "      Wise County          0.043500  0.026597  0.015098   0.06723  0.069734   \n",
       "\n",
       "                                   hit_rate                      \\\n",
       "subject_race                white     black  hispanic     white   \n",
       "party subgeography                                                \n",
       "blue  Bexar County       0.091078  0.402878  0.370023  0.410367   \n",
       "      Culberson County   0.091078  0.263158  0.119910  0.217054   \n",
       "      Dallas County      0.091078  0.392606  0.452096  0.474110   \n",
       "      El Paso County     0.091078  0.406897  0.364799  0.476895   \n",
       "      Fort Bend County   0.091078  0.407249  0.352365  0.382831   \n",
       "...                           ...       ...       ...       ...   \n",
       "red   Wharton County     0.091078  0.548780  0.266531  0.537143   \n",
       "      Wichita County     0.091078  0.606695  0.439252  0.563006   \n",
       "      Wilbarger County   0.091078  0.533333  0.327273  0.551546   \n",
       "      Williamson County  0.091078  0.494577  0.322340  0.396644   \n",
       "      Wise County        0.091078  0.489914  0.412892  0.451655   \n",
       "\n",
       "                        inferred_threshold  ...   per_dem   per_gop            \\\n",
       "subject_race                         black  ...     white     black  hispanic   \n",
       "party subgeography                          ...                                 \n",
       "blue  Bexar County                0.331674  ...  0.544659  0.409804  0.409804   \n",
       "      Culberson County            0.182624  ...  0.595801  0.367454  0.367454   \n",
       "      Dallas County               0.323425  ...  0.611264  0.348851  0.348851   \n",
       "      El Paso County              0.278581  ...  0.691392  0.259277  0.259277   \n",
       "      Fort Bend County            0.327966  ...  0.516483  0.450180  0.450180   \n",
       "...                                    ...  ...       ...       ...       ...   \n",
       "red   Wharton County              0.320722  ...  0.288162  0.690080  0.690080   \n",
       "      Wichita County              0.310999  ...  0.230844  0.728220  0.728220   \n",
       "      Wilbarger County            0.323033  ...  0.196781  0.772007  0.772007   \n",
       "      Williamson County           0.305252  ...  0.420159  0.518786  0.518786   \n",
       "      Wise County                 0.277676  ...  0.138356  0.837557  0.837557   \n",
       "\n",
       "                                      diff                   per_point_diff  \\\n",
       "subject_race                white    black hispanic    white          black   \n",
       "party subgeography                                                            \n",
       "blue  Bexar County       0.409804   79,030   79,030   79,030         13.49%   \n",
       "      Culberson County   0.367454      174      174      174         22.83%   \n",
       "      Dallas County      0.348851  196,980  196,980  196,980         26.24%   \n",
       "      El Paso County     0.259277   90,942   90,942   90,942         43.21%   \n",
       "      Fort Bend County   0.450180   17,263   17,263   17,263          6.63%   \n",
       "...                           ...      ...      ...      ...            ...   \n",
       "red   Wharton County     0.690080    5,911    5,911    5,911         40.19%   \n",
       "      Wichita County     0.728220   18,857   18,857   18,857         49.74%   \n",
       "      Wilbarger County   0.772007    2,359    2,359    2,359         57.52%   \n",
       "      Williamson County  0.518786   19,777   19,777   19,777          9.86%   \n",
       "      Wise County        0.837557   17,243   17,243   17,243         69.92%   \n",
       "\n",
       "                                          \n",
       "subject_race            hispanic   white  \n",
       "party subgeography                        \n",
       "blue  Bexar County        13.49%  13.49%  \n",
       "      Culberson County    22.83%  22.83%  \n",
       "      Dallas County       26.24%  26.24%  \n",
       "      El Paso County      43.21%  43.21%  \n",
       "      Fort Bend County     6.63%   6.63%  \n",
       "...                          ...     ...  \n",
       "red   Wharton County      40.19%  40.19%  \n",
       "      Wichita County      49.74%  49.74%  \n",
       "      Wilbarger County    57.52%  57.52%  \n",
       "      Williamson County    9.86%   9.86%  \n",
       "      Wise County         69.92%  69.92%  \n",
       "\n",
       "[113 rows x 36 columns]"
      ]
     },
     "execution_count": 208,
     "metadata": {},
     "output_type": "execute_result"
    }
   ],
   "source": [
    "pivot_tx = tx.pivot(index = ['party', 'subgeography'] , columns = 'subject_race')\n",
    "pivot_tx"
   ]
  },
  {
   "cell_type": "code",
   "execution_count": 209,
   "metadata": {},
   "outputs": [],
   "source": [
    "import warnings\n",
    "warnings.filterwarnings('ignore')\n",
    "\n",
    "weights = pivot_tx.loc['blue'].nb_search.apply(get_weight, axis = 0).stack('subject_race').reset_index().rename(columns = {0:'weight'})\n",
    "tx_blue = tx[tx.party == 'blue'].merge(weights, on = ['subgeography','subject_race'])\n",
    "\n",
    "weights = pivot_tx.loc['red'].nb_search.apply(get_weight, axis = 0).stack('subject_race').reset_index().rename(columns = {0:'weight'})\n",
    "tx_red = tx[tx.party == 'red'].merge(weights, on = ['subgeography','subject_race'])\n",
    "\n",
    "#create dataframes with normalized values, using the pivoted dataframe so we can apply get normalize to each row containing race specific\n",
    "hit_rate_normalized = pivot_tx.hit_rate.apply(get_normalize, axis = 1).stack('subject_race').reset_index().rename(columns = {0:'hit_rate_normalized'})\n",
    "threshold_normalized = pivot_tx.inferred_threshold.apply(get_normalize, axis = 1).stack('subject_race').reset_index().rename(columns = {0:'threshold_normalized'})\n",
    "hit_rate_normalized\n",
    "threshold_normalized\n",
    "tx_blue = tx_blue.merge(hit_rate_normalized.merge(threshold_normalized), on = ['subgeography', 'subject_race','party'])\n",
    "tx_red = tx_red.merge(hit_rate_normalized.merge(threshold_normalized), on = ['subgeography', 'subject_race','party'])\n",
    "\n",
    "tx_blue['hit_rate_weighted'] = tx_blue.hit_rate*tx_blue.weight\n",
    "tx_blue['threshold_weighted'] = tx_blue.inferred_threshold*tx_blue.weight\n",
    "tx_red['hit_rate_weighted'] = tx_red.hit_rate*tx_red.weight\n",
    "tx_red['threshold_weighted'] = tx_red.inferred_threshold*tx_red.weight\n",
    "tx_blue['hit_rate_weighted_normalized'] = tx_blue.hit_rate_normalized*tx_blue.weight\n",
    "tx_blue['threshold_weighted_normalized'] = tx_blue.threshold_normalized*tx_blue.weight\n",
    "tx_red['hit_rate_weighted_normalized'] = tx_red.hit_rate_normalized*tx_red.weight\n",
    "tx_red['threshold_weighted_normalized'] = tx_red.threshold_normalized*tx_red.weight"
   ]
  },
  {
   "cell_type": "code",
   "execution_count": 210,
   "metadata": {},
   "outputs": [
    {
     "data": {
      "text/html": [
       "<div>\n",
       "<style scoped>\n",
       "    .dataframe tbody tr th:only-of-type {\n",
       "        vertical-align: middle;\n",
       "    }\n",
       "\n",
       "    .dataframe tbody tr th {\n",
       "        vertical-align: top;\n",
       "    }\n",
       "\n",
       "    .dataframe thead th {\n",
       "        text-align: right;\n",
       "    }\n",
       "</style>\n",
       "<table border=\"1\" class=\"dataframe\">\n",
       "  <thead>\n",
       "    <tr style=\"text-align: right;\">\n",
       "      <th></th>\n",
       "      <th>subgeography</th>\n",
       "      <th>subject_race</th>\n",
       "      <th>search_rate</th>\n",
       "      <th>stop_rate</th>\n",
       "      <th>hit_rate</th>\n",
       "      <th>inferred_threshold</th>\n",
       "      <th>stops_per_year</th>\n",
       "      <th>stop_rate_n</th>\n",
       "      <th>nb_search</th>\n",
       "      <th>total_votes</th>\n",
       "      <th>...</th>\n",
       "      <th>diff</th>\n",
       "      <th>per_point_diff</th>\n",
       "      <th>party</th>\n",
       "      <th>weight</th>\n",
       "      <th>hit_rate_normalized</th>\n",
       "      <th>threshold_normalized</th>\n",
       "      <th>hit_rate_weighted</th>\n",
       "      <th>threshold_weighted</th>\n",
       "      <th>hit_rate_weighted_normalized</th>\n",
       "      <th>threshold_weighted_normalized</th>\n",
       "    </tr>\n",
       "  </thead>\n",
       "  <tbody>\n",
       "    <tr>\n",
       "      <th>0</th>\n",
       "      <td>Bexar County</td>\n",
       "      <td>white</td>\n",
       "      <td>0.013096</td>\n",
       "      <td>0.091078</td>\n",
       "      <td>0.410367</td>\n",
       "      <td>0.298590</td>\n",
       "      <td>5605.714286</td>\n",
       "      <td>1.070666e+06</td>\n",
       "      <td>73.413071</td>\n",
       "      <td>586038.0</td>\n",
       "      <td>...</td>\n",
       "      <td>79,030</td>\n",
       "      <td>13.49%</td>\n",
       "      <td>blue</td>\n",
       "      <td>0.093915</td>\n",
       "      <td>1.000000</td>\n",
       "      <td>1.000000</td>\n",
       "      <td>0.038540</td>\n",
       "      <td>0.028042</td>\n",
       "      <td>0.093915</td>\n",
       "      <td>0.093915</td>\n",
       "    </tr>\n",
       "    <tr>\n",
       "      <th>1</th>\n",
       "      <td>Bexar County</td>\n",
       "      <td>black</td>\n",
       "      <td>0.021990</td>\n",
       "      <td>0.067230</td>\n",
       "      <td>0.402878</td>\n",
       "      <td>0.331674</td>\n",
       "      <td>1268.857143</td>\n",
       "      <td>2.150716e+05</td>\n",
       "      <td>27.902411</td>\n",
       "      <td>586038.0</td>\n",
       "      <td>...</td>\n",
       "      <td>79,030</td>\n",
       "      <td>13.49%</td>\n",
       "      <td>blue</td>\n",
       "      <td>0.044283</td>\n",
       "      <td>0.981749</td>\n",
       "      <td>1.110800</td>\n",
       "      <td>0.017841</td>\n",
       "      <td>0.014687</td>\n",
       "      <td>0.043475</td>\n",
       "      <td>0.049189</td>\n",
       "    </tr>\n",
       "    <tr>\n",
       "      <th>2</th>\n",
       "      <td>Bexar County</td>\n",
       "      <td>hispanic</td>\n",
       "      <td>0.024835</td>\n",
       "      <td>0.069734</td>\n",
       "      <td>0.370023</td>\n",
       "      <td>0.209974</td>\n",
       "      <td>9190.571429</td>\n",
       "      <td>7.443300e+05</td>\n",
       "      <td>228.245323</td>\n",
       "      <td>586038.0</td>\n",
       "      <td>...</td>\n",
       "      <td>79,030</td>\n",
       "      <td>13.49%</td>\n",
       "      <td>blue</td>\n",
       "      <td>0.083236</td>\n",
       "      <td>0.901689</td>\n",
       "      <td>0.703219</td>\n",
       "      <td>0.030799</td>\n",
       "      <td>0.017478</td>\n",
       "      <td>0.075053</td>\n",
       "      <td>0.058533</td>\n",
       "    </tr>\n",
       "    <tr>\n",
       "      <th>3</th>\n",
       "      <td>Culberson County</td>\n",
       "      <td>white</td>\n",
       "      <td>0.008045</td>\n",
       "      <td>0.091078</td>\n",
       "      <td>0.217054</td>\n",
       "      <td>0.159095</td>\n",
       "      <td>2927.428571</td>\n",
       "      <td>1.070666e+06</td>\n",
       "      <td>23.550875</td>\n",
       "      <td>762.0</td>\n",
       "      <td>...</td>\n",
       "      <td>174</td>\n",
       "      <td>22.83%</td>\n",
       "      <td>blue</td>\n",
       "      <td>0.030128</td>\n",
       "      <td>1.000000</td>\n",
       "      <td>1.000000</td>\n",
       "      <td>0.006539</td>\n",
       "      <td>0.004793</td>\n",
       "      <td>0.030128</td>\n",
       "      <td>0.030128</td>\n",
       "    </tr>\n",
       "    <tr>\n",
       "      <th>4</th>\n",
       "      <td>Culberson County</td>\n",
       "      <td>black</td>\n",
       "      <td>0.017133</td>\n",
       "      <td>0.067230</td>\n",
       "      <td>0.263158</td>\n",
       "      <td>0.182624</td>\n",
       "      <td>642.285714</td>\n",
       "      <td>2.150716e+05</td>\n",
       "      <td>11.003993</td>\n",
       "      <td>762.0</td>\n",
       "      <td>...</td>\n",
       "      <td>174</td>\n",
       "      <td>22.83%</td>\n",
       "      <td>blue</td>\n",
       "      <td>0.017464</td>\n",
       "      <td>1.212406</td>\n",
       "      <td>1.147890</td>\n",
       "      <td>0.004596</td>\n",
       "      <td>0.003189</td>\n",
       "      <td>0.021173</td>\n",
       "      <td>0.020047</td>\n",
       "    </tr>\n",
       "  </tbody>\n",
       "</table>\n",
       "<p>5 rows × 22 columns</p>\n",
       "</div>"
      ],
      "text/plain": [
       "       subgeography subject_race  search_rate  stop_rate  hit_rate  \\\n",
       "0      Bexar County        white     0.013096   0.091078  0.410367   \n",
       "1      Bexar County        black     0.021990   0.067230  0.402878   \n",
       "2      Bexar County     hispanic     0.024835   0.069734  0.370023   \n",
       "3  Culberson County        white     0.008045   0.091078  0.217054   \n",
       "4  Culberson County        black     0.017133   0.067230  0.263158   \n",
       "\n",
       "   inferred_threshold  stops_per_year   stop_rate_n   nb_search  total_votes  \\\n",
       "0            0.298590     5605.714286  1.070666e+06   73.413071     586038.0   \n",
       "1            0.331674     1268.857143  2.150716e+05   27.902411     586038.0   \n",
       "2            0.209974     9190.571429  7.443300e+05  228.245323     586038.0   \n",
       "3            0.159095     2927.428571  1.070666e+06   23.550875        762.0   \n",
       "4            0.182624      642.285714  2.150716e+05   11.003993        762.0   \n",
       "\n",
       "   ...    diff  per_point_diff party    weight hit_rate_normalized  \\\n",
       "0  ...  79,030          13.49%  blue  0.093915            1.000000   \n",
       "1  ...  79,030          13.49%  blue  0.044283            0.981749   \n",
       "2  ...  79,030          13.49%  blue  0.083236            0.901689   \n",
       "3  ...     174          22.83%  blue  0.030128            1.000000   \n",
       "4  ...     174          22.83%  blue  0.017464            1.212406   \n",
       "\n",
       "   threshold_normalized  hit_rate_weighted  threshold_weighted  \\\n",
       "0              1.000000           0.038540            0.028042   \n",
       "1              1.110800           0.017841            0.014687   \n",
       "2              0.703219           0.030799            0.017478   \n",
       "3              1.000000           0.006539            0.004793   \n",
       "4              1.147890           0.004596            0.003189   \n",
       "\n",
       "   hit_rate_weighted_normalized  threshold_weighted_normalized  \n",
       "0                      0.093915                       0.093915  \n",
       "1                      0.043475                       0.049189  \n",
       "2                      0.075053                       0.058533  \n",
       "3                      0.030128                       0.030128  \n",
       "4                      0.021173                       0.020047  \n",
       "\n",
       "[5 rows x 22 columns]"
      ]
     },
     "execution_count": 210,
     "metadata": {},
     "output_type": "execute_result"
    }
   ],
   "source": [
    "tx_blue.head()"
   ]
  },
  {
   "cell_type": "code",
   "execution_count": 211,
   "metadata": {},
   "outputs": [],
   "source": [
    "results_blue = pd.concat([tx_blue.groupby('subject_race').mean().loc[:,['hit_rate','inferred_threshold','hit_rate_normalized','threshold_normalized']],\n",
    "          tx_blue.groupby('subject_race').sum().loc[:,'hit_rate_weighted':]],\n",
    "          axis =1).T\n",
    "results_red = pd.concat([tx_red.groupby('subject_race').mean().loc[:,['hit_rate','inferred_threshold','hit_rate_normalized','threshold_normalized']],\n",
    "          tx_red.groupby('subject_race').sum().loc[:,'hit_rate_weighted':]],\n",
    "          axis =1).T"
   ]
  },
  {
   "cell_type": "code",
   "execution_count": 212,
   "metadata": {},
   "outputs": [
    {
     "data": {
      "text/html": [
       "<table style=\"display:inline\" border=\"1\" class=\"dataframe\">\n",
       "  <thead>\n",
       "    <tr style=\"text-align: right;\">\n",
       "      <th>subject_race</th>\n",
       "      <th>black</th>\n",
       "      <th>hispanic</th>\n",
       "      <th>white</th>\n",
       "    </tr>\n",
       "  </thead>\n",
       "  <tbody>\n",
       "    <tr>\n",
       "      <th>hit_rate</th>\n",
       "      <td>0.340110</td>\n",
       "      <td>0.317911</td>\n",
       "      <td>0.363883</td>\n",
       "    </tr>\n",
       "    <tr>\n",
       "      <th>inferred_threshold</th>\n",
       "      <td>0.270343</td>\n",
       "      <td>0.197877</td>\n",
       "      <td>0.250464</td>\n",
       "    </tr>\n",
       "    <tr>\n",
       "      <th>hit_rate_normalized</th>\n",
       "      <td>0.904808</td>\n",
       "      <td>0.850641</td>\n",
       "      <td>1.000000</td>\n",
       "    </tr>\n",
       "    <tr>\n",
       "      <th>threshold_normalized</th>\n",
       "      <td>1.092983</td>\n",
       "      <td>0.801940</td>\n",
       "      <td>1.000000</td>\n",
       "    </tr>\n",
       "    <tr>\n",
       "      <th>hit_rate_weighted</th>\n",
       "      <td>0.388619</td>\n",
       "      <td>0.251140</td>\n",
       "      <td>0.395255</td>\n",
       "    </tr>\n",
       "    <tr>\n",
       "      <th>threshold_weighted</th>\n",
       "      <td>0.303134</td>\n",
       "      <td>0.163061</td>\n",
       "      <td>0.273854</td>\n",
       "    </tr>\n",
       "    <tr>\n",
       "      <th>hit_rate_weighted_normalized</th>\n",
       "      <td>0.953272</td>\n",
       "      <td>0.828129</td>\n",
       "      <td>1.000000</td>\n",
       "    </tr>\n",
       "    <tr>\n",
       "      <th>threshold_weighted_normalized</th>\n",
       "      <td>1.082935</td>\n",
       "      <td>0.852314</td>\n",
       "      <td>1.000000</td>\n",
       "    </tr>\n",
       "  </tbody>\n",
       "</table style=\"display:inline\"><table style=\"display:inline\" border=\"1\" class=\"dataframe\">\n",
       "  <thead>\n",
       "    <tr style=\"text-align: right;\">\n",
       "      <th>subject_race</th>\n",
       "      <th>black</th>\n",
       "      <th>hispanic</th>\n",
       "      <th>white</th>\n",
       "    </tr>\n",
       "  </thead>\n",
       "  <tbody>\n",
       "    <tr>\n",
       "      <th>hit_rate</th>\n",
       "      <td>0.434453</td>\n",
       "      <td>0.345940</td>\n",
       "      <td>0.445877</td>\n",
       "    </tr>\n",
       "    <tr>\n",
       "      <th>inferred_threshold</th>\n",
       "      <td>0.284264</td>\n",
       "      <td>0.203593</td>\n",
       "      <td>0.296583</td>\n",
       "    </tr>\n",
       "    <tr>\n",
       "      <th>hit_rate_normalized</th>\n",
       "      <td>0.982982</td>\n",
       "      <td>0.771545</td>\n",
       "      <td>1.000000</td>\n",
       "    </tr>\n",
       "    <tr>\n",
       "      <th>threshold_normalized</th>\n",
       "      <td>0.976147</td>\n",
       "      <td>0.689574</td>\n",
       "      <td>1.000000</td>\n",
       "    </tr>\n",
       "    <tr>\n",
       "      <th>hit_rate_weighted</th>\n",
       "      <td>0.425774</td>\n",
       "      <td>0.351785</td>\n",
       "      <td>0.436575</td>\n",
       "    </tr>\n",
       "    <tr>\n",
       "      <th>threshold_weighted</th>\n",
       "      <td>0.270291</td>\n",
       "      <td>0.196347</td>\n",
       "      <td>0.281166</td>\n",
       "    </tr>\n",
       "    <tr>\n",
       "      <th>hit_rate_weighted_normalized</th>\n",
       "      <td>0.997822</td>\n",
       "      <td>0.797633</td>\n",
       "      <td>1.000000</td>\n",
       "    </tr>\n",
       "    <tr>\n",
       "      <th>threshold_weighted_normalized</th>\n",
       "      <td>0.984800</td>\n",
       "      <td>0.688708</td>\n",
       "      <td>1.000000</td>\n",
       "    </tr>\n",
       "  </tbody>\n",
       "</table style=\"display:inline\">"
      ]
     },
     "metadata": {},
     "output_type": "display_data"
    }
   ],
   "source": [
    "from IPython.display import display_html\n",
    "def display_side_by_side(*args):\n",
    "    html_str=''\n",
    "    for df in args:\n",
    "        html_str+=df.to_html()\n",
    "    display_html(html_str.replace('table','table style=\"display:inline\"'),raw=True)\n",
    "display_side_by_side(results_blue,results_red)"
   ]
  },
  {
   "cell_type": "code",
   "execution_count": null,
   "metadata": {},
   "outputs": [],
   "source": []
  },
  {
   "cell_type": "code",
   "execution_count": null,
   "metadata": {},
   "outputs": [],
   "source": []
  },
  {
   "cell_type": "code",
   "execution_count": null,
   "metadata": {},
   "outputs": [],
   "source": []
  },
  {
   "cell_type": "code",
   "execution_count": null,
   "metadata": {},
   "outputs": [],
   "source": []
  },
  {
   "cell_type": "code",
   "execution_count": null,
   "metadata": {},
   "outputs": [],
   "source": []
  }
 ],
 "metadata": {
  "kernelspec": {
   "display_name": "Python 3",
   "language": "python",
   "name": "python3"
  },
  "language_info": {
   "codemirror_mode": {
    "name": "ipython",
    "version": 3
   },
   "file_extension": ".py",
   "mimetype": "text/x-python",
   "name": "python",
   "nbconvert_exporter": "python",
   "pygments_lexer": "ipython3",
   "version": "3.8.5"
  }
 },
 "nbformat": 4,
 "nbformat_minor": 4
}
